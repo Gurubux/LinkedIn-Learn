{
 "cells": [
  {
   "cell_type": "markdown",
   "metadata": {},
   "source": [
    "![title](Header__0001_9.png)\n",
    "___\n",
    "## Chapter 9 - Web-based Data Visualizations with Plotly\n",
    "### Segment 3 - Plotly maps\n",
    "#### Setting up to use Plotly within Jupyter"
   ]
  },
  {
   "cell_type": "code",
   "execution_count": 9,
   "metadata": {
    "collapsed": false
   },
   "outputs": [],
   "source": [
    "import numpy as np\n",
    "import pandas as pd\n",
    "\n",
    "import plotly.plotly as py\n",
    "import plotly.tools as tls"
   ]
  },
  {
   "cell_type": "code",
   "execution_count": 10,
   "metadata": {
    "collapsed": false
   },
   "outputs": [],
   "source": [
    "tls.set_credentials_file(username='bigdatagal', api_key='hvginfgvwe')"
   ]
  },
  {
   "cell_type": "markdown",
   "metadata": {
    "collapsed": true
   },
   "source": [
    "#### Generating Choropleth maps"
   ]
  },
  {
   "cell_type": "code",
   "execution_count": 11,
   "metadata": {
    "collapsed": false
   },
   "outputs": [
    {
     "data": {
      "text/html": [
       "<div>\n",
       "<table border=\"1\" class=\"dataframe\">\n",
       "  <thead>\n",
       "    <tr style=\"text-align: right;\">\n",
       "      <th></th>\n",
       "      <th>code</th>\n",
       "      <th>region</th>\n",
       "      <th>pop</th>\n",
       "      <th>satv</th>\n",
       "      <th>satm</th>\n",
       "      <th>percent</th>\n",
       "      <th>dollars</th>\n",
       "      <th>pay</th>\n",
       "    </tr>\n",
       "  </thead>\n",
       "  <tbody>\n",
       "    <tr>\n",
       "      <th>0</th>\n",
       "      <td>AL</td>\n",
       "      <td>ESC</td>\n",
       "      <td>4041</td>\n",
       "      <td>470</td>\n",
       "      <td>514</td>\n",
       "      <td>8</td>\n",
       "      <td>3.648</td>\n",
       "      <td>27</td>\n",
       "    </tr>\n",
       "    <tr>\n",
       "      <th>1</th>\n",
       "      <td>AK</td>\n",
       "      <td>PAC</td>\n",
       "      <td>550</td>\n",
       "      <td>438</td>\n",
       "      <td>476</td>\n",
       "      <td>42</td>\n",
       "      <td>7.887</td>\n",
       "      <td>43</td>\n",
       "    </tr>\n",
       "    <tr>\n",
       "      <th>2</th>\n",
       "      <td>AZ</td>\n",
       "      <td>MTN</td>\n",
       "      <td>3665</td>\n",
       "      <td>445</td>\n",
       "      <td>497</td>\n",
       "      <td>25</td>\n",
       "      <td>4.231</td>\n",
       "      <td>30</td>\n",
       "    </tr>\n",
       "    <tr>\n",
       "      <th>3</th>\n",
       "      <td>AR</td>\n",
       "      <td>WSC</td>\n",
       "      <td>2351</td>\n",
       "      <td>470</td>\n",
       "      <td>511</td>\n",
       "      <td>6</td>\n",
       "      <td>3.334</td>\n",
       "      <td>23</td>\n",
       "    </tr>\n",
       "    <tr>\n",
       "      <th>4</th>\n",
       "      <td>CA</td>\n",
       "      <td>PAC</td>\n",
       "      <td>29760</td>\n",
       "      <td>419</td>\n",
       "      <td>484</td>\n",
       "      <td>45</td>\n",
       "      <td>4.826</td>\n",
       "      <td>39</td>\n",
       "    </tr>\n",
       "  </tbody>\n",
       "</table>\n",
       "</div>"
      ],
      "text/plain": [
       "  code region    pop  satv  satm  percent  dollars  pay\n",
       "0   AL    ESC   4041   470   514        8    3.648   27\n",
       "1   AK    PAC    550   438   476       42    7.887   43\n",
       "2   AZ    MTN   3665   445   497       25    4.231   30\n",
       "3   AR    WSC   2351   470   511        6    3.334   23\n",
       "4   CA    PAC  29760   419   484       45    4.826   39"
      ]
     },
     "execution_count": 11,
     "metadata": {},
     "output_type": "execute_result"
    }
   ],
   "source": [
    "address = 'C:/Users/Lillian Pierson/Desktop/Exercise Files/Ch09/09_03/States.csv'\n",
    "states = pd.read_csv(address)\n",
    "states.columns = ['code','region','pop','satv', 'satm', 'percent', 'dollars', 'pay']\n",
    "states.head()"
   ]
  },
  {
   "cell_type": "code",
   "execution_count": 18,
   "metadata": {
    "collapsed": false
   },
   "outputs": [
    {
     "data": {
      "text/plain": [
       "[{'autocolorscale': False,\n",
       "  'colorbar': {'title': 'thousand dollars'},\n",
       "  'colorscale': 'custom-colorscale',\n",
       "  'locationmode': 'USA-states',\n",
       "  'locations': 0     AL\n",
       "  1     AK\n",
       "  2     AZ\n",
       "  3     AR\n",
       "  4     CA\n",
       "  5     CO\n",
       "  6     CN\n",
       "  7     DE\n",
       "  8     DC\n",
       "  9     FL\n",
       "  10    GA\n",
       "  11    HI\n",
       "  12    ID\n",
       "  13    IL\n",
       "  14    IN\n",
       "  15    IA\n",
       "  16    KS\n",
       "  17    KY\n",
       "  18    LA\n",
       "  19    ME\n",
       "  20    MD\n",
       "  21    MA\n",
       "  22    MI\n",
       "  23    MN\n",
       "  24    MS\n",
       "  25    MO\n",
       "  26    MT\n",
       "  27    NE\n",
       "  28    NV\n",
       "  29    NH\n",
       "  30    NJ\n",
       "  31    NM\n",
       "  32    NY\n",
       "  33    NC\n",
       "  34    ND\n",
       "  35    OH\n",
       "  36    OK\n",
       "  37    OR\n",
       "  38    PA\n",
       "  39    RI\n",
       "  40    SC\n",
       "  41    SD\n",
       "  42    TN\n",
       "  43    TX\n",
       "  44    UT\n",
       "  45    VT\n",
       "  46    VA\n",
       "  47    WA\n",
       "  48    WV\n",
       "  49    WI\n",
       "  50    WY\n",
       "  Name: code, dtype: object,\n",
       "  'text': 0     SATv 470SATm 514<br>State AL\n",
       "  1     SATv 438SATm 476<br>State AK\n",
       "  2     SATv 445SATm 497<br>State AZ\n",
       "  3     SATv 470SATm 511<br>State AR\n",
       "  4     SATv 419SATm 484<br>State CA\n",
       "  5     SATv 456SATm 513<br>State CO\n",
       "  6     SATv 430SATm 471<br>State CN\n",
       "  7     SATv 433SATm 470<br>State DE\n",
       "  8     SATv 409SATm 441<br>State DC\n",
       "  9     SATv 418SATm 466<br>State FL\n",
       "  10    SATv 401SATm 443<br>State GA\n",
       "  11    SATv 404SATm 481<br>State HI\n",
       "  12    SATv 466SATm 502<br>State ID\n",
       "  13    SATv 466SATm 528<br>State IL\n",
       "  14    SATv 408SATm 459<br>State IN\n",
       "  15    SATv 511SATm 577<br>State IA\n",
       "  16    SATv 492SATm 548<br>State KS\n",
       "  17    SATv 473SATm 521<br>State KY\n",
       "  18    SATv 476SATm 517<br>State LA\n",
       "  19    SATv 423SATm 463<br>State ME\n",
       "  20    SATv 430SATm 478<br>State MD\n",
       "  21    SATv 427SATm 473<br>State MA\n",
       "  22    SATv 454SATm 514<br>State MI\n",
       "  23    SATv 477SATm 542<br>State MN\n",
       "  24    SATv 477SATm 519<br>State MS\n",
       "  25    SATv 473SATm 522<br>State MO\n",
       "  26    SATv 464SATm 523<br>State MT\n",
       "  27    SATv 484SATm 546<br>State NE\n",
       "  28    SATv 434SATm 487<br>State NV\n",
       "  29    SATv 442SATm 486<br>State NH\n",
       "  30    SATv 418SATm 473<br>State NJ\n",
       "  31    SATv 480SATm 527<br>State NM\n",
       "  32    SATv 412SATm 470<br>State NY\n",
       "  33    SATv 401SATm 440<br>State NC\n",
       "  34    SATv 505SATm 564<br>State ND\n",
       "  35    SATv 450SATm 499<br>State OH\n",
       "  36    SATv 478SATm 523<br>State OK\n",
       "  37    SATv 439SATm 484<br>State OR\n",
       "  38    SATv 420SATm 463<br>State PA\n",
       "  39    SATv 422SATm 461<br>State RI\n",
       "  40    SATv 397SATm 437<br>State SC\n",
       "  41    SATv 506SATm 555<br>State SD\n",
       "  42    SATv 483SATm 525<br>State TN\n",
       "  43    SATv 413SATm 461<br>State TX\n",
       "  44    SATv 492SATm 539<br>State UT\n",
       "  45    SATv 431SATm 466<br>State VT\n",
       "  46    SATv 425SATm 470<br>State VA\n",
       "  47    SATv 437SATm 486<br>State WA\n",
       "  48    SATv 443SATm 490<br>State WV\n",
       "  49    SATv 476SATm 543<br>State WI\n",
       "  50    SATv 458SATm 519<br>State WY\n",
       "  Name: text, dtype: object,\n",
       "  'type': 'choropleth',\n",
       "  'z': 0     3.648\n",
       "  1     7.887\n",
       "  2     4.231\n",
       "  3     3.334\n",
       "  4     4.826\n",
       "  5     4.809\n",
       "  6     7.914\n",
       "  7     6.016\n",
       "  8     8.210\n",
       "  9     5.154\n",
       "  10    4.860\n",
       "  11    5.008\n",
       "  12    3.200\n",
       "  13    5.062\n",
       "  14    5.051\n",
       "  15    4.839\n",
       "  16    5.009\n",
       "  17    4.390\n",
       "  18    4.012\n",
       "  19    5.894\n",
       "  20    6.184\n",
       "  21    6.351\n",
       "  22    5.257\n",
       "  23    5.260\n",
       "  24    3.322\n",
       "  25    4.415\n",
       "  26    5.184\n",
       "  27    4.381\n",
       "  28    4.564\n",
       "  29    5.504\n",
       "  30    9.159\n",
       "  31    4.446\n",
       "  32    8.500\n",
       "  33    4.802\n",
       "  34    3.685\n",
       "  35    5.639\n",
       "  36    3.742\n",
       "  37    5.291\n",
       "  38    6.534\n",
       "  39    6.989\n",
       "  40    4.327\n",
       "  41    3.730\n",
       "  42    3.707\n",
       "  43    4.238\n",
       "  44    2.993\n",
       "  45    5.740\n",
       "  46    5.360\n",
       "  47    5.045\n",
       "  48    5.046\n",
       "  49    5.946\n",
       "  50    5.255\n",
       "  Name: dollars, dtype: float64}]"
      ]
     },
     "execution_count": 18,
     "metadata": {},
     "output_type": "execute_result"
    }
   ],
   "source": [
    "states['text'] = 'SATv '+states['satv'].astype(str) + 'SATm '+states['satm'].astype(str) +'<br>'+\\\n",
    "'State '+states['code']\n",
    "\n",
    "data = [dict(type='choropleth', autocolorscale=False, locations = states['code'], z= states['dollars'], locationmode='USA-states', text = states['text'], colorscale = 'custom-colorscale', colorbar= dict(title=\"thousand dollars\"))]\n",
    "data"
   ]
  },
  {
   "cell_type": "code",
   "execution_count": 19,
   "metadata": {
    "collapsed": false
   },
   "outputs": [
    {
     "data": {
      "text/plain": [
       "{'geo': {'lakecolor': 'rgb(66,165,245)',\n",
       "  'projection': {'type': 'albers usa'},\n",
       "  'scope': 'usa',\n",
       "  'showlakes': True},\n",
       " 'title': 'State Spending on Public Education, in $k/student'}"
      ]
     },
     "execution_count": 19,
     "metadata": {},
     "output_type": "execute_result"
    }
   ],
   "source": [
    "layout = dict(title='State Spending on Public Education, in $k/student', \n",
    "              geo = dict(scope='usa', projection=dict(type='albers usa'), showlakes = True, lakecolor = 'rgb(66,165,245)',),)\n",
    "layout\n",
    "                                                                                    "
   ]
  },
  {
   "cell_type": "code",
   "execution_count": 20,
   "metadata": {
    "collapsed": false
   },
   "outputs": [
    {
     "data": {
      "text/html": [
       "<iframe id=\"igraph\" scrolling=\"no\" style=\"border:none;\" seamless=\"seamless\" src=\"https://plot.ly/~bigdatagal/122.embed\" height=\"525px\" width=\"100%\"></iframe>"
      ],
      "text/plain": [
       "<plotly.tools.PlotlyDisplay object>"
      ]
     },
     "execution_count": 20,
     "metadata": {},
     "output_type": "execute_result"
    }
   ],
   "source": [
    "fig = dict(data=data, layout=layout)\n",
    "\n",
    "py.iplot(fig, filename='d3-choropleth-map')"
   ]
  },
  {
   "cell_type": "markdown",
   "metadata": {},
   "source": [
    "#### Generating point maps"
   ]
  },
  {
   "cell_type": "code",
   "execution_count": 21,
   "metadata": {
    "collapsed": false
   },
   "outputs": [
    {
     "data": {
      "text/html": [
       "<div>\n",
       "<table border=\"1\" class=\"dataframe\">\n",
       "  <thead>\n",
       "    <tr style=\"text-align: right;\">\n",
       "      <th></th>\n",
       "      <th>stn_id</th>\n",
       "      <th>lat</th>\n",
       "      <th>long</th>\n",
       "      <th>elev</th>\n",
       "      <th>code</th>\n",
       "    </tr>\n",
       "  </thead>\n",
       "  <tbody>\n",
       "    <tr>\n",
       "      <th>4479</th>\n",
       "      <td>USC00406292</td>\n",
       "      <td>36.4739</td>\n",
       "      <td>-81.8033</td>\n",
       "      <td>736.1</td>\n",
       "      <td>TN</td>\n",
       "    </tr>\n",
       "    <tr>\n",
       "      <th>2678</th>\n",
       "      <td>USC00237398</td>\n",
       "      <td>38.6856</td>\n",
       "      <td>-90.5231</td>\n",
       "      <td>137.2</td>\n",
       "      <td>MO</td>\n",
       "    </tr>\n",
       "    <tr>\n",
       "      <th>2902</th>\n",
       "      <td>USC00252820</td>\n",
       "      <td>40.0739</td>\n",
       "      <td>-97.1669</td>\n",
       "      <td>411.5</td>\n",
       "      <td>NE</td>\n",
       "    </tr>\n",
       "    <tr>\n",
       "      <th>2128</th>\n",
       "      <td>USC00170833</td>\n",
       "      <td>46.4283</td>\n",
       "      <td>-67.8442</td>\n",
       "      <td>128.0</td>\n",
       "      <td>ME</td>\n",
       "    </tr>\n",
       "    <tr>\n",
       "      <th>2138</th>\n",
       "      <td>USC00172878</td>\n",
       "      <td>47.2386</td>\n",
       "      <td>-68.6136</td>\n",
       "      <td>185.9</td>\n",
       "      <td>ME</td>\n",
       "    </tr>\n",
       "  </tbody>\n",
       "</table>\n",
       "</div>"
      ],
      "text/plain": [
       "           stn_id      lat     long   elev code\n",
       "4479  USC00406292  36.4739 -81.8033  736.1   TN\n",
       "2678  USC00237398  38.6856 -90.5231  137.2   MO\n",
       "2902  USC00252820  40.0739 -97.1669  411.5   NE\n",
       "2128  USC00170833  46.4283 -67.8442  128.0   ME\n",
       "2138  USC00172878  47.2386 -68.6136  185.9   ME"
      ]
     },
     "execution_count": 21,
     "metadata": {},
     "output_type": "execute_result"
    }
   ],
   "source": [
    "address = 'C:/Users/Lillian Pierson/Desktop/Exercise Files/Ch09/09_03/snow_inventory.csv'\n",
    "snow = pd.read_csv(address)\n",
    "snow.columns = ['stn_id', 'lat', 'long', 'elev', 'code']\n",
    "\n",
    "snow_sample = snow.sample(n=200, random_state=25, axis=0)\n",
    "snow_sample.head()"
   ]
  },
  {
   "cell_type": "code",
   "execution_count": 26,
   "metadata": {
    "collapsed": false
   },
   "outputs": [
    {
     "data": {
      "text/html": [
       "<iframe id=\"igraph\" scrolling=\"no\" style=\"border:none;\" seamless=\"seamless\" src=\"https://plot.ly/~bigdatagal/68.embed\" height=\"525px\" width=\"100%\"></iframe>"
      ],
      "text/plain": [
       "<plotly.tools.PlotlyDisplay object>"
      ]
     },
     "execution_count": 26,
     "metadata": {},
     "output_type": "execute_result"
    }
   ],
   "source": [
    "data = [dict(type='scattergeo', locationmode='USA-states', lon= snow_sample['long'], lat = snow_sample['lat'],\n",
    "             marker = dict(size=12, autocolorscale=False, colorscale='custom-colorscale', color = snow_sample['elev'],\n",
    "                           colorbar=dict(title = 'Elevation (m)')))]\n",
    "\n",
    "layout = dict(title='NOAA Weather Snowfall Station Elevations', colorbar= True, \n",
    "              geo = dict(scope='usa', projection= dict(type='albers usa'), showland=True, landcolor= \"rgb(250,250,250)\",\n",
    "                         subunitcolor = \"rgb(217,217,217)\", countrycolor = \"rgb(217,217,217)\", countrywidth = 0.5, subunitwidth = 0.5),)\n",
    "\n",
    "fig = dict(data=data, layout=layout)\n",
    "\n",
    "py.iplot(fig, validate=False, filename='d3-elevation')"
   ]
  },
  {
   "cell_type": "code",
   "execution_count": null,
   "metadata": {
    "collapsed": true
   },
   "outputs": [],
   "source": []
  }
 ],
 "metadata": {
  "anaconda-cloud": {},
  "kernelspec": {
   "display_name": "Python 2",
   "language": "python",
   "name": "python2"
  },
  "language_info": {
   "codemirror_mode": {
    "name": "ipython",
    "version": 2
   },
   "file_extension": ".py",
   "mimetype": "text/x-python",
   "name": "python",
   "nbconvert_exporter": "python",
   "pygments_lexer": "ipython2",
   "version": "2.7.11"
  }
 },
 "nbformat": 4,
 "nbformat_minor": 0
}
