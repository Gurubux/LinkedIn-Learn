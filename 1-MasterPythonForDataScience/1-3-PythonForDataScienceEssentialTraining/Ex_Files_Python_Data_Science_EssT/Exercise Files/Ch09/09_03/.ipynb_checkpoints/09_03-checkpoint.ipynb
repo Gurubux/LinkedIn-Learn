{
 "cells": [
  {
   "cell_type": "markdown",
   "metadata": {},
   "source": [
    "![title](Header__0001_9.png)\n",
    "___\n",
    "## Chapter 9 - Web-based Data Visualizations with Plotly\n",
    "### Segment 3 - Plotly maps\n",
    "#### Setting up to use Plotly within Jupyter"
   ]
  },
  {
   "cell_type": "code",
   "execution_count": 10,
   "metadata": {},
   "outputs": [],
   "source": [
    "import numpy as np\n",
    "import pandas as pd\n",
    "\n",
    "import plotly.plotly as py\n",
    "import plotly.tools as tls"
   ]
  },
  {
   "cell_type": "code",
   "execution_count": 11,
   "metadata": {},
   "outputs": [],
   "source": [
    "tls.set_credentials_file(username='Gurubux', api_key='Lq7Bg2I2vBwAdcdhzjZC')"
   ]
  },
  {
   "cell_type": "markdown",
   "metadata": {
    "collapsed": true
   },
   "source": [
    "#### Generating Choropleth maps"
   ]
  },
  {
   "cell_type": "code",
   "execution_count": 12,
   "metadata": {},
   "outputs": [
    {
     "data": {
      "text/html": [
       "<div>\n",
       "<style scoped>\n",
       "    .dataframe tbody tr th:only-of-type {\n",
       "        vertical-align: middle;\n",
       "    }\n",
       "\n",
       "    .dataframe tbody tr th {\n",
       "        vertical-align: top;\n",
       "    }\n",
       "\n",
       "    .dataframe thead th {\n",
       "        text-align: right;\n",
       "    }\n",
       "</style>\n",
       "<table border=\"1\" class=\"dataframe\">\n",
       "  <thead>\n",
       "    <tr style=\"text-align: right;\">\n",
       "      <th></th>\n",
       "      <th>code</th>\n",
       "      <th>region</th>\n",
       "      <th>pop</th>\n",
       "      <th>satv</th>\n",
       "      <th>satm</th>\n",
       "      <th>percent</th>\n",
       "      <th>dollars</th>\n",
       "      <th>pay</th>\n",
       "    </tr>\n",
       "  </thead>\n",
       "  <tbody>\n",
       "    <tr>\n",
       "      <th>0</th>\n",
       "      <td>AL</td>\n",
       "      <td>ESC</td>\n",
       "      <td>4041</td>\n",
       "      <td>470</td>\n",
       "      <td>514</td>\n",
       "      <td>8</td>\n",
       "      <td>3.648</td>\n",
       "      <td>27</td>\n",
       "    </tr>\n",
       "    <tr>\n",
       "      <th>1</th>\n",
       "      <td>AK</td>\n",
       "      <td>PAC</td>\n",
       "      <td>550</td>\n",
       "      <td>438</td>\n",
       "      <td>476</td>\n",
       "      <td>42</td>\n",
       "      <td>7.887</td>\n",
       "      <td>43</td>\n",
       "    </tr>\n",
       "    <tr>\n",
       "      <th>2</th>\n",
       "      <td>AZ</td>\n",
       "      <td>MTN</td>\n",
       "      <td>3665</td>\n",
       "      <td>445</td>\n",
       "      <td>497</td>\n",
       "      <td>25</td>\n",
       "      <td>4.231</td>\n",
       "      <td>30</td>\n",
       "    </tr>\n",
       "    <tr>\n",
       "      <th>3</th>\n",
       "      <td>AR</td>\n",
       "      <td>WSC</td>\n",
       "      <td>2351</td>\n",
       "      <td>470</td>\n",
       "      <td>511</td>\n",
       "      <td>6</td>\n",
       "      <td>3.334</td>\n",
       "      <td>23</td>\n",
       "    </tr>\n",
       "    <tr>\n",
       "      <th>4</th>\n",
       "      <td>CA</td>\n",
       "      <td>PAC</td>\n",
       "      <td>29760</td>\n",
       "      <td>419</td>\n",
       "      <td>484</td>\n",
       "      <td>45</td>\n",
       "      <td>4.826</td>\n",
       "      <td>39</td>\n",
       "    </tr>\n",
       "  </tbody>\n",
       "</table>\n",
       "</div>"
      ],
      "text/plain": [
       "  code region    pop  satv  satm  percent  dollars  pay\n",
       "0   AL    ESC   4041   470   514        8    3.648   27\n",
       "1   AK    PAC    550   438   476       42    7.887   43\n",
       "2   AZ    MTN   3665   445   497       25    4.231   30\n",
       "3   AR    WSC   2351   470   511        6    3.334   23\n",
       "4   CA    PAC  29760   419   484       45    4.826   39"
      ]
     },
     "execution_count": 12,
     "metadata": {},
     "output_type": "execute_result"
    }
   ],
   "source": [
    "address = 'States.csv'\n",
    "states = pd.read_csv(address)\n",
    "states.columns = ['code','region','pop','satv', 'satm', 'percent', 'dollars', 'pay']\n",
    "states.head()"
   ]
  },
  {
   "cell_type": "code",
   "execution_count": 19,
   "metadata": {},
   "outputs": [
    {
     "data": {
      "text/plain": [
       "[{'type': 'choropleth', 'autocolorscale': False, 'locations': 0     AL\n",
       "  1     AK\n",
       "  2     AZ\n",
       "  3     AR\n",
       "  4     CA\n",
       "  5     CO\n",
       "  6     CN\n",
       "  7     DE\n",
       "  8     DC\n",
       "  9     FL\n",
       "  10    GA\n",
       "  11    HI\n",
       "  12    ID\n",
       "  13    IL\n",
       "  14    IN\n",
       "  15    IA\n",
       "  16    KS\n",
       "  17    KY\n",
       "  18    LA\n",
       "  19    ME\n",
       "  20    MD\n",
       "  21    MA\n",
       "  22    MI\n",
       "  23    MN\n",
       "  24    MS\n",
       "  25    MO\n",
       "  26    MT\n",
       "  27    NE\n",
       "  28    NV\n",
       "  29    NH\n",
       "  30    NJ\n",
       "  31    NM\n",
       "  32    NY\n",
       "  33    NC\n",
       "  34    ND\n",
       "  35    OH\n",
       "  36    OK\n",
       "  37    OR\n",
       "  38    PA\n",
       "  39    RI\n",
       "  40    SC\n",
       "  41    SD\n",
       "  42    TN\n",
       "  43    TX\n",
       "  44    UT\n",
       "  45    VT\n",
       "  46    VA\n",
       "  47    WA\n",
       "  48    WV\n",
       "  49    WI\n",
       "  50    WY\n",
       "  Name: code, dtype: object, 'z': 0     3.648\n",
       "  1     7.887\n",
       "  2     4.231\n",
       "  3     3.334\n",
       "  4     4.826\n",
       "  5     4.809\n",
       "  6     7.914\n",
       "  7     6.016\n",
       "  8     8.210\n",
       "  9     5.154\n",
       "  10    4.860\n",
       "  11    5.008\n",
       "  12    3.200\n",
       "  13    5.062\n",
       "  14    5.051\n",
       "  15    4.839\n",
       "  16    5.009\n",
       "  17    4.390\n",
       "  18    4.012\n",
       "  19    5.894\n",
       "  20    6.184\n",
       "  21    6.351\n",
       "  22    5.257\n",
       "  23    5.260\n",
       "  24    3.322\n",
       "  25    4.415\n",
       "  26    5.184\n",
       "  27    4.381\n",
       "  28    4.564\n",
       "  29    5.504\n",
       "  30    9.159\n",
       "  31    4.446\n",
       "  32    8.500\n",
       "  33    4.802\n",
       "  34    3.685\n",
       "  35    5.639\n",
       "  36    3.742\n",
       "  37    5.291\n",
       "  38    6.534\n",
       "  39    6.989\n",
       "  40    4.327\n",
       "  41    3.730\n",
       "  42    3.707\n",
       "  43    4.238\n",
       "  44    2.993\n",
       "  45    5.740\n",
       "  46    5.360\n",
       "  47    5.045\n",
       "  48    5.046\n",
       "  49    5.946\n",
       "  50    5.255\n",
       "  Name: dollars, dtype: float64, 'locationmode': 'USA-states', 'text': 0     SATv 470SATm 514<br>State AL\n",
       "  1     SATv 438SATm 476<br>State AK\n",
       "  2     SATv 445SATm 497<br>State AZ\n",
       "  3     SATv 470SATm 511<br>State AR\n",
       "  4     SATv 419SATm 484<br>State CA\n",
       "  5     SATv 456SATm 513<br>State CO\n",
       "  6     SATv 430SATm 471<br>State CN\n",
       "  7     SATv 433SATm 470<br>State DE\n",
       "  8     SATv 409SATm 441<br>State DC\n",
       "  9     SATv 418SATm 466<br>State FL\n",
       "  10    SATv 401SATm 443<br>State GA\n",
       "  11    SATv 404SATm 481<br>State HI\n",
       "  12    SATv 466SATm 502<br>State ID\n",
       "  13    SATv 466SATm 528<br>State IL\n",
       "  14    SATv 408SATm 459<br>State IN\n",
       "  15    SATv 511SATm 577<br>State IA\n",
       "  16    SATv 492SATm 548<br>State KS\n",
       "  17    SATv 473SATm 521<br>State KY\n",
       "  18    SATv 476SATm 517<br>State LA\n",
       "  19    SATv 423SATm 463<br>State ME\n",
       "  20    SATv 430SATm 478<br>State MD\n",
       "  21    SATv 427SATm 473<br>State MA\n",
       "  22    SATv 454SATm 514<br>State MI\n",
       "  23    SATv 477SATm 542<br>State MN\n",
       "  24    SATv 477SATm 519<br>State MS\n",
       "  25    SATv 473SATm 522<br>State MO\n",
       "  26    SATv 464SATm 523<br>State MT\n",
       "  27    SATv 484SATm 546<br>State NE\n",
       "  28    SATv 434SATm 487<br>State NV\n",
       "  29    SATv 442SATm 486<br>State NH\n",
       "  30    SATv 418SATm 473<br>State NJ\n",
       "  31    SATv 480SATm 527<br>State NM\n",
       "  32    SATv 412SATm 470<br>State NY\n",
       "  33    SATv 401SATm 440<br>State NC\n",
       "  34    SATv 505SATm 564<br>State ND\n",
       "  35    SATv 450SATm 499<br>State OH\n",
       "  36    SATv 478SATm 523<br>State OK\n",
       "  37    SATv 439SATm 484<br>State OR\n",
       "  38    SATv 420SATm 463<br>State PA\n",
       "  39    SATv 422SATm 461<br>State RI\n",
       "  40    SATv 397SATm 437<br>State SC\n",
       "  41    SATv 506SATm 555<br>State SD\n",
       "  42    SATv 483SATm 525<br>State TN\n",
       "  43    SATv 413SATm 461<br>State TX\n",
       "  44    SATv 492SATm 539<br>State UT\n",
       "  45    SATv 431SATm 466<br>State VT\n",
       "  46    SATv 425SATm 470<br>State VA\n",
       "  47    SATv 437SATm 486<br>State WA\n",
       "  48    SATv 443SATm 490<br>State WV\n",
       "  49    SATv 476SATm 543<br>State WI\n",
       "  50    SATv 458SATm 519<br>State WY\n",
       "  Name: text, dtype: object, 'colorscale': [[0.0, 'rgb(165,0,38)'],\n",
       "   [0.1111111111111111, 'rgb(215,48,39)'],\n",
       "   [0.2222222222222222, 'rgb(244,109,67)'],\n",
       "   [0.3333333333333333, 'rgb(253,174,97)'],\n",
       "   [0.4444444444444444, 'rgb(254,224,144)'],\n",
       "   [0.5555555555555556, 'rgb(224,243,248)'],\n",
       "   [0.6666666666666666, 'rgb(171,217,233)'],\n",
       "   [0.7777777777777778, 'rgb(116,173,209)'],\n",
       "   [0.8888888888888888, 'rgb(69,117,180)'],\n",
       "   [1.0, 'rgb(49,54,149)']], 'colorbar': {'title': 'thousand dollars'}}]"
      ]
     },
     "execution_count": 19,
     "metadata": {},
     "output_type": "execute_result"
    }
   ],
   "source": [
    "states['text'] = 'SATv '+states['satv'].astype(str) + 'SATm '+states['satm'].astype(str) +'<br>'+\\\n",
    "'State '+states['code']\n",
    "scl = [\n",
    "    [0.0, 'rgb(242,240,247)'],\n",
    "    [0.2, 'rgb(218,218,235)'],\n",
    "    [0.4, 'rgb(188,189,220)'],\n",
    "    [0.6, 'rgb(158,154,200)'],\n",
    "    [0.8, 'rgb(117,107,177)'],\n",
    "    [1.0, 'rgb(84,39,143)']\n",
    "]\n",
    "scl2 = [[0.0, 'rgb(165,0,38)'], [0.1111111111111111, 'rgb(215,48,39)'], [0.2222222222222222, 'rgb(244,109,67)'], [0.3333333333333333, 'rgb(253,174,97)'], [0.4444444444444444, 'rgb(254,224,144)'], [0.5555555555555556, 'rgb(224,243,248)'], [0.6666666666666666, 'rgb(171,217,233)'], [0.7777777777777778, 'rgb(116,173,209)'], [0.8888888888888888, 'rgb(69,117,180)'], [1.0, 'rgb(49,54,149)']]\n",
    "data = [dict(type='choropleth', autocolorscale=False, locations = states['code'], z= states['dollars'], locationmode='USA-states', text = states['text'], colorscale = scl2, colorbar= dict(title=\"thousand dollars\"))]\n",
    "data"
   ]
  },
  {
   "cell_type": "code",
   "execution_count": 20,
   "metadata": {},
   "outputs": [
    {
     "data": {
      "text/plain": [
       "{'title': 'State Spending on Public Education, in $k/student',\n",
       " 'geo': {'scope': 'usa',\n",
       "  'projection': {'type': 'albers usa'},\n",
       "  'showlakes': True,\n",
       "  'lakecolor': 'rgb(66,165,245)'}}"
      ]
     },
     "execution_count": 20,
     "metadata": {},
     "output_type": "execute_result"
    }
   ],
   "source": [
    "layout = dict(title='State Spending on Public Education, in $k/student', \n",
    "              geo = dict(scope='usa', projection=dict(type='albers usa'), showlakes = True, lakecolor = 'rgb(66,165,245)',),)\n",
    "layout\n",
    "                                                                                    "
   ]
  },
  {
   "cell_type": "code",
   "execution_count": 21,
   "metadata": {},
   "outputs": [
    {
     "data": {
      "text/html": [
       "<iframe id=\"igraph\" scrolling=\"no\" style=\"border:none;\" seamless=\"seamless\" src=\"https://plot.ly/~Gurubux/34.embed\" height=\"525px\" width=\"100%\"></iframe>"
      ],
      "text/plain": [
       "<plotly.tools.PlotlyDisplay object>"
      ]
     },
     "execution_count": 21,
     "metadata": {},
     "output_type": "execute_result"
    }
   ],
   "source": [
    "fig = dict(data=data, layout=layout)\n",
    "\n",
    "py.iplot(fig, filename='d3-choropleth-map')"
   ]
  },
  {
   "cell_type": "markdown",
   "metadata": {},
   "source": [
    "#### Generating point maps"
   ]
  },
  {
   "cell_type": "code",
   "execution_count": null,
   "metadata": {},
   "outputs": [],
   "source": []
  },
  {
   "cell_type": "code",
   "execution_count": null,
   "metadata": {},
   "outputs": [],
   "source": []
  },
  {
   "cell_type": "code",
   "execution_count": null,
   "metadata": {},
   "outputs": [],
   "source": []
  }
 ],
 "metadata": {
  "anaconda-cloud": {},
  "kernelspec": {
   "display_name": "Python 3",
   "language": "python",
   "name": "python3"
  },
  "language_info": {
   "codemirror_mode": {
    "name": "ipython",
    "version": 3
   },
   "file_extension": ".py",
   "mimetype": "text/x-python",
   "name": "python",
   "nbconvert_exporter": "python",
   "pygments_lexer": "ipython3",
   "version": "3.7.0"
  }
 },
 "nbformat": 4,
 "nbformat_minor": 1
}
