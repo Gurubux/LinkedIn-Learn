{
 "cells": [
  {
   "cell_type": "markdown",
   "metadata": {},
   "source": [
    "![title](Header__0001_9.png)\n",
    "___\n",
    "# Chapter 9 - Web-based Data Visualizations with Plotly\n",
    "## Segment 1 - Basic charts\n",
    "### Setting up to use Plotly within Jupyter"
   ]
  },
  {
   "cell_type": "code",
   "execution_count": 1,
   "metadata": {},
   "outputs": [
    {
     "name": "stdout",
     "output_type": "stream",
     "text": [
      "Requirement already satisfied: Plotly in c:\\users\\guru\\anaconda3\\lib\\site-packages (3.7.1)\n",
      "Requirement already satisfied: requests in c:\\users\\guru\\anaconda3\\lib\\site-packages (from Plotly) (2.19.1)\n",
      "Requirement already satisfied: nbformat>=4.2 in c:\\users\\guru\\anaconda3\\lib\\site-packages (from Plotly) (4.4.0)\n",
      "Requirement already satisfied: retrying>=1.3.3 in c:\\users\\guru\\anaconda3\\lib\\site-packages (from Plotly) (1.3.3)\n",
      "Requirement already satisfied: decorator>=4.0.6 in c:\\users\\guru\\anaconda3\\lib\\site-packages (from Plotly) (4.3.0)\n",
      "Requirement already satisfied: six in c:\\users\\guru\\anaconda3\\lib\\site-packages (from Plotly) (1.11.0)\n",
      "Requirement already satisfied: pytz in c:\\users\\guru\\anaconda3\\lib\\site-packages (from Plotly) (2018.5)\n",
      "Requirement already satisfied: urllib3<1.24,>=1.21.1 in c:\\users\\guru\\anaconda3\\lib\\site-packages (from requests->Plotly) (1.23)\n",
      "Requirement already satisfied: certifi>=2017.4.17 in c:\\users\\guru\\anaconda3\\lib\\site-packages (from requests->Plotly) (2019.3.9)\n",
      "Requirement already satisfied: chardet<3.1.0,>=3.0.2 in c:\\users\\guru\\anaconda3\\lib\\site-packages (from requests->Plotly) (3.0.4)\n",
      "Requirement already satisfied: idna<2.8,>=2.5 in c:\\users\\guru\\anaconda3\\lib\\site-packages (from requests->Plotly) (2.7)\n",
      "Requirement already satisfied: jsonschema!=2.5.0,>=2.4 in c:\\users\\guru\\anaconda3\\lib\\site-packages (from nbformat>=4.2->Plotly) (2.6.0)\n",
      "Requirement already satisfied: traitlets>=4.1 in c:\\users\\guru\\anaconda3\\lib\\site-packages (from nbformat>=4.2->Plotly) (4.3.2)\n",
      "Requirement already satisfied: jupyter-core in c:\\users\\guru\\anaconda3\\lib\\site-packages (from nbformat>=4.2->Plotly) (4.4.0)\n",
      "Requirement already satisfied: ipython-genutils in c:\\users\\guru\\anaconda3\\lib\\site-packages (from nbformat>=4.2->Plotly) (0.2.0)\n"
     ]
    }
   ],
   "source": [
    "! pip install Plotly"
   ]
  },
  {
   "cell_type": "code",
   "execution_count": 2,
   "metadata": {},
   "outputs": [
    {
     "name": "stdout",
     "output_type": "stream",
     "text": [
      "Requirement already satisfied: cufflinks in c:\\users\\guru\\anaconda3\\lib\\site-packages (0.15)\n",
      "Requirement already satisfied: ipython>=5.3.0 in c:\\users\\guru\\anaconda3\\lib\\site-packages (from cufflinks) (6.5.0)\n",
      "Requirement already satisfied: plotly>=3.0.0 in c:\\users\\guru\\anaconda3\\lib\\site-packages (from cufflinks) (3.7.1)\n",
      "Requirement already satisfied: pandas>=0.19.2 in c:\\users\\guru\\anaconda3\\lib\\site-packages (from cufflinks) (0.23.4)\n",
      "Requirement already satisfied: setuptools>=34.4.1 in c:\\users\\guru\\anaconda3\\lib\\site-packages (from cufflinks) (40.8.0)\n",
      "Requirement already satisfied: ipywidgets>=7.0.0 in c:\\users\\guru\\anaconda3\\lib\\site-packages (from cufflinks) (7.4.1)\n",
      "Requirement already satisfied: colorlover>=0.2.1 in c:\\users\\guru\\anaconda3\\lib\\site-packages (from cufflinks) (0.3.0)\n",
      "Requirement already satisfied: six>=1.9.0 in c:\\users\\guru\\anaconda3\\lib\\site-packages (from cufflinks) (1.11.0)\n",
      "Requirement already satisfied: numpy>=1.9.2 in c:\\users\\guru\\appdata\\roaming\\python\\python37\\site-packages (from cufflinks) (1.16.2)\n",
      "Requirement already satisfied: pickleshare in c:\\users\\guru\\anaconda3\\lib\\site-packages (from ipython>=5.3.0->cufflinks) (0.7.4)\n",
      "Requirement already satisfied: backcall in c:\\users\\guru\\anaconda3\\lib\\site-packages (from ipython>=5.3.0->cufflinks) (0.1.0)\n",
      "Requirement already satisfied: decorator in c:\\users\\guru\\anaconda3\\lib\\site-packages (from ipython>=5.3.0->cufflinks) (4.3.0)\n",
      "Requirement already satisfied: prompt-toolkit<2.0.0,>=1.0.15 in c:\\users\\guru\\anaconda3\\lib\\site-packages (from ipython>=5.3.0->cufflinks) (1.0.15)\n",
      "Requirement already satisfied: jedi>=0.10 in c:\\users\\guru\\anaconda3\\lib\\site-packages (from ipython>=5.3.0->cufflinks) (0.12.1)\n",
      "Requirement already satisfied: simplegeneric>0.8 in c:\\users\\guru\\anaconda3\\lib\\site-packages (from ipython>=5.3.0->cufflinks) (0.8.1)\n",
      "Requirement already satisfied: pygments in c:\\users\\guru\\anaconda3\\lib\\site-packages (from ipython>=5.3.0->cufflinks) (2.2.0)\n",
      "Requirement already satisfied: traitlets>=4.2 in c:\\users\\guru\\anaconda3\\lib\\site-packages (from ipython>=5.3.0->cufflinks) (4.3.2)\n",
      "Requirement already satisfied: colorama; sys_platform == \"win32\" in c:\\users\\guru\\anaconda3\\lib\\site-packages (from ipython>=5.3.0->cufflinks) (0.3.9)\n",
      "Requirement already satisfied: retrying>=1.3.3 in c:\\users\\guru\\anaconda3\\lib\\site-packages (from plotly>=3.0.0->cufflinks) (1.3.3)\n",
      "Requirement already satisfied: requests in c:\\users\\guru\\anaconda3\\lib\\site-packages (from plotly>=3.0.0->cufflinks) (2.19.1)\n",
      "Requirement already satisfied: nbformat>=4.2 in c:\\users\\guru\\anaconda3\\lib\\site-packages (from plotly>=3.0.0->cufflinks) (4.4.0)\n",
      "Requirement already satisfied: pytz in c:\\users\\guru\\anaconda3\\lib\\site-packages (from plotly>=3.0.0->cufflinks) (2018.5)\n",
      "Requirement already satisfied: python-dateutil>=2.5.0 in c:\\users\\guru\\anaconda3\\lib\\site-packages (from pandas>=0.19.2->cufflinks) (2.7.3)\n",
      "Requirement already satisfied: ipykernel>=4.5.1 in c:\\users\\guru\\anaconda3\\lib\\site-packages (from ipywidgets>=7.0.0->cufflinks) (4.10.0)\n",
      "Requirement already satisfied: widgetsnbextension~=3.4.0 in c:\\users\\guru\\anaconda3\\lib\\site-packages (from ipywidgets>=7.0.0->cufflinks) (3.4.1)\n",
      "Requirement already satisfied: wcwidth in c:\\users\\guru\\anaconda3\\lib\\site-packages (from prompt-toolkit<2.0.0,>=1.0.15->ipython>=5.3.0->cufflinks) (0.1.7)\n",
      "Requirement already satisfied: parso>=0.3.0 in c:\\users\\guru\\anaconda3\\lib\\site-packages (from jedi>=0.10->ipython>=5.3.0->cufflinks) (0.3.1)\n",
      "Requirement already satisfied: ipython-genutils in c:\\users\\guru\\anaconda3\\lib\\site-packages (from traitlets>=4.2->ipython>=5.3.0->cufflinks) (0.2.0)\n",
      "Requirement already satisfied: urllib3<1.24,>=1.21.1 in c:\\users\\guru\\anaconda3\\lib\\site-packages (from requests->plotly>=3.0.0->cufflinks) (1.23)\n",
      "Requirement already satisfied: idna<2.8,>=2.5 in c:\\users\\guru\\anaconda3\\lib\\site-packages (from requests->plotly>=3.0.0->cufflinks) (2.7)\n",
      "Requirement already satisfied: certifi>=2017.4.17 in c:\\users\\guru\\anaconda3\\lib\\site-packages (from requests->plotly>=3.0.0->cufflinks) (2019.3.9)\n",
      "Requirement already satisfied: chardet<3.1.0,>=3.0.2 in c:\\users\\guru\\anaconda3\\lib\\site-packages (from requests->plotly>=3.0.0->cufflinks) (3.0.4)\n",
      "Requirement already satisfied: jsonschema!=2.5.0,>=2.4 in c:\\users\\guru\\anaconda3\\lib\\site-packages (from nbformat>=4.2->plotly>=3.0.0->cufflinks) (2.6.0)\n",
      "Requirement already satisfied: jupyter-core in c:\\users\\guru\\anaconda3\\lib\\site-packages (from nbformat>=4.2->plotly>=3.0.0->cufflinks) (4.4.0)\n",
      "Requirement already satisfied: jupyter_client in c:\\users\\guru\\anaconda3\\lib\\site-packages (from ipykernel>=4.5.1->ipywidgets>=7.0.0->cufflinks) (5.2.3)\n",
      "Requirement already satisfied: tornado>=4.0 in c:\\users\\guru\\anaconda3\\lib\\site-packages (from ipykernel>=4.5.1->ipywidgets>=7.0.0->cufflinks) (5.1)\n",
      "Requirement already satisfied: notebook>=4.4.1 in c:\\users\\guru\\anaconda3\\lib\\site-packages (from widgetsnbextension~=3.4.0->ipywidgets>=7.0.0->cufflinks) (5.6.0)\n",
      "Requirement already satisfied: pyzmq>=13 in c:\\users\\guru\\anaconda3\\lib\\site-packages (from jupyter_client->ipykernel>=4.5.1->ipywidgets>=7.0.0->cufflinks) (17.1.2)\n",
      "Requirement already satisfied: jinja2 in c:\\users\\guru\\anaconda3\\lib\\site-packages (from notebook>=4.4.1->widgetsnbextension~=3.4.0->ipywidgets>=7.0.0->cufflinks) (2.10)\n",
      "Requirement already satisfied: Send2Trash in c:\\users\\guru\\anaconda3\\lib\\site-packages (from notebook>=4.4.1->widgetsnbextension~=3.4.0->ipywidgets>=7.0.0->cufflinks) (1.5.0)\n",
      "Requirement already satisfied: nbconvert in c:\\users\\guru\\anaconda3\\lib\\site-packages (from notebook>=4.4.1->widgetsnbextension~=3.4.0->ipywidgets>=7.0.0->cufflinks) (5.4.0)\n",
      "Requirement already satisfied: terminado>=0.8.1 in c:\\users\\guru\\anaconda3\\lib\\site-packages (from notebook>=4.4.1->widgetsnbextension~=3.4.0->ipywidgets>=7.0.0->cufflinks) (0.8.1)\n",
      "Requirement already satisfied: prometheus-client in c:\\users\\guru\\anaconda3\\lib\\site-packages (from notebook>=4.4.1->widgetsnbextension~=3.4.0->ipywidgets>=7.0.0->cufflinks) (0.3.1)\n",
      "Requirement already satisfied: MarkupSafe>=0.23 in c:\\users\\guru\\anaconda3\\lib\\site-packages (from jinja2->notebook>=4.4.1->widgetsnbextension~=3.4.0->ipywidgets>=7.0.0->cufflinks) (1.0)\n",
      "Requirement already satisfied: mistune>=0.8.1 in c:\\users\\guru\\anaconda3\\lib\\site-packages (from nbconvert->notebook>=4.4.1->widgetsnbextension~=3.4.0->ipywidgets>=7.0.0->cufflinks) (0.8.3)\n",
      "Requirement already satisfied: entrypoints>=0.2.2 in c:\\users\\guru\\anaconda3\\lib\\site-packages (from nbconvert->notebook>=4.4.1->widgetsnbextension~=3.4.0->ipywidgets>=7.0.0->cufflinks) (0.2.3)\n",
      "Requirement already satisfied: bleach in c:\\users\\guru\\anaconda3\\lib\\site-packages (from nbconvert->notebook>=4.4.1->widgetsnbextension~=3.4.0->ipywidgets>=7.0.0->cufflinks) (2.1.4)\n",
      "Requirement already satisfied: pandocfilters>=1.4.1 in c:\\users\\guru\\anaconda3\\lib\\site-packages (from nbconvert->notebook>=4.4.1->widgetsnbextension~=3.4.0->ipywidgets>=7.0.0->cufflinks) (1.4.2)\n",
      "Requirement already satisfied: testpath in c:\\users\\guru\\anaconda3\\lib\\site-packages (from nbconvert->notebook>=4.4.1->widgetsnbextension~=3.4.0->ipywidgets>=7.0.0->cufflinks) (0.3.1)\n",
      "Requirement already satisfied: defusedxml in c:\\users\\guru\\anaconda3\\lib\\site-packages (from nbconvert->notebook>=4.4.1->widgetsnbextension~=3.4.0->ipywidgets>=7.0.0->cufflinks) (0.5.0)\n",
      "Requirement already satisfied: html5lib!=1.0b1,!=1.0b2,!=1.0b3,!=1.0b4,!=1.0b5,!=1.0b6,!=1.0b7,!=1.0b8,>=0.99999999pre in c:\\users\\guru\\anaconda3\\lib\\site-packages (from bleach->nbconvert->notebook>=4.4.1->widgetsnbextension~=3.4.0->ipywidgets>=7.0.0->cufflinks) (1.0.1)\n",
      "Requirement already satisfied: webencodings in c:\\users\\guru\\anaconda3\\lib\\site-packages (from html5lib!=1.0b1,!=1.0b2,!=1.0b3,!=1.0b4,!=1.0b5,!=1.0b6,!=1.0b7,!=1.0b8,>=0.99999999pre->bleach->nbconvert->notebook>=4.4.1->widgetsnbextension~=3.4.0->ipywidgets>=7.0.0->cufflinks) (0.5.1)\n"
     ]
    }
   ],
   "source": [
    "! pip install cufflinks"
   ]
  },
  {
   "cell_type": "code",
   "execution_count": 3,
   "metadata": {},
   "outputs": [],
   "source": [
    "import numpy as np\n",
    "import pandas as pd\n",
    "\n",
    "import cufflinks as cf\n",
    "\n",
    "import plotly.plotly as py\n",
    "import plotly.tools as tls\n",
    "import plotly.graph_objs as go"
   ]
  },
  {
   "cell_type": "code",
   "execution_count": 6,
   "metadata": {},
   "outputs": [],
   "source": [
    "tls.set_credentials_file(username='Gurubux', api_key='Lq7Bg2I2vBwAdcdhzjZC')"
   ]
  },
  {
   "cell_type": "markdown",
   "metadata": {},
   "source": [
    "### Creating line charts"
   ]
  },
  {
   "cell_type": "markdown",
   "metadata": {},
   "source": [
    "#### A very basic line chart"
   ]
  },
  {
   "cell_type": "code",
   "execution_count": 7,
   "metadata": {},
   "outputs": [
    {
     "data": {
      "text/html": [
       "<iframe id=\"igraph\" scrolling=\"no\" style=\"border:none;\" seamless=\"seamless\" src=\"https://plot.ly/~Gurubux/12.embed\" height=\"525px\" width=\"100%\"></iframe>"
      ],
      "text/plain": [
       "<plotly.tools.PlotlyDisplay object>"
      ]
     },
     "execution_count": 7,
     "metadata": {},
     "output_type": "execute_result"
    }
   ],
   "source": [
    "a = np.linspace(start=0, stop=36, num=36)\n",
    "\n",
    "np.random.seed(25)\n",
    "b = np.random.uniform(low=0.0, high=1.0, size=36)\n",
    "\n",
    "trace = go.Scatter(x=a, y=b)\n",
    "\n",
    "data = [trace]\n",
    "\n",
    "py.iplot(data, filename='basic-line-chart')"
   ]
  },
  {
   "cell_type": "markdown",
   "metadata": {},
   "source": [
    "#### A line chart with more than one variable plotted"
   ]
  },
  {
   "cell_type": "code",
   "execution_count": 8,
   "metadata": {},
   "outputs": [
    {
     "name": "stdout",
     "output_type": "stream",
     "text": [
      "{'title': 'Double Line Chart', 'xaxis': {'title': 'x-axis'}, 'yaxis': {'title': 'y-axis'}}\n"
     ]
    }
   ],
   "source": [
    "x = [1,2,3,4,5,6,7,8,9]\n",
    "y = [1,2,3,4,0,4,3,2,1]\n",
    "z = [10,9,8,7,6,5,4,3,2,1]\n",
    "\n",
    "trace0 = go.Scatter(x=x, y=y, name='List Object', line = dict(width=5))\n",
    "trace1 = go.Scatter(x=x, y=z, name='List Object 2', line = dict(width=10,))\n",
    "\n",
    "data = [trace0, trace1]\n",
    "\n",
    "layout = dict(title='Double Line Chart', xaxis= dict(title='x-axis'), yaxis= dict(title='y-axis'))\n",
    "print(layout)"
   ]
  },
  {
   "cell_type": "code",
   "execution_count": 9,
   "metadata": {},
   "outputs": [
    {
     "name": "stdout",
     "output_type": "stream",
     "text": [
      "{'data': [Scatter({\n",
      "    'line': {'width': 5}, 'name': 'List Object', 'x': [1, 2, 3, 4, 5, 6, 7, 8, 9], 'y': [1, 2, 3, 4, 0, 4, 3, 2, 1]\n",
      "}), Scatter({\n",
      "    'line': {'width': 10}, 'name': 'List Object 2', 'x': [1, 2, 3, 4, 5, 6, 7, 8, 9], 'y': [10, 9, 8, 7, 6, 5, 4, 3, 2, 1]\n",
      "})], 'layout': {'title': 'Double Line Chart', 'xaxis': {'title': 'x-axis'}, 'yaxis': {'title': 'y-axis'}}}\n"
     ]
    }
   ],
   "source": [
    "fig = dict(data=data, layout=layout)\n",
    "print( fig)"
   ]
  },
  {
   "cell_type": "code",
   "execution_count": 10,
   "metadata": {},
   "outputs": [
    {
     "data": {
      "text/html": [
       "<iframe id=\"igraph\" scrolling=\"no\" style=\"border:none;\" seamless=\"seamless\" src=\"https://plot.ly/~Gurubux/14.embed\" height=\"525px\" width=\"100%\"></iframe>"
      ],
      "text/plain": [
       "<plotly.tools.PlotlyDisplay object>"
      ]
     },
     "execution_count": 10,
     "metadata": {},
     "output_type": "execute_result"
    }
   ],
   "source": [
    "py.iplot(fig, filename='styled-line-chart')"
   ]
  },
  {
   "cell_type": "markdown",
   "metadata": {},
   "source": [
    "#### A line chart from a pandas dataframe "
   ]
  },
  {
   "cell_type": "code",
   "execution_count": 12,
   "metadata": {},
   "outputs": [
    {
     "data": {
      "text/html": [
       "<iframe id=\"igraph\" scrolling=\"no\" style=\"border:none;\" seamless=\"seamless\" src=\"https://plot.ly/~Gurubux/16.embed\" height=\"525px\" width=\"100%\"></iframe>"
      ],
      "text/plain": [
       "<plotly.tools.PlotlyDisplay object>"
      ]
     },
     "execution_count": 12,
     "metadata": {},
     "output_type": "execute_result"
    }
   ],
   "source": [
    "address = 'mtcars.csv'\n",
    "cars = pd.read_csv(address)\n",
    "cars.columns = ['car_names','mpg','cyl','disp', 'hp', 'drat', 'wt', 'qsec', 'vs', 'am', 'gear', 'carb']\n",
    "\n",
    "df = cars[['cyl', 'wt','mpg']]\n",
    "\n",
    "layout = dict(title = 'Chart From Pandas DataFrame', xaxis= dict(title='x-axis'), yaxis= dict(title='y-axis'))\n",
    "\n",
    "df.iplot(filename='cf-simple-line-chart', layout=layout)"
   ]
  },
  {
   "cell_type": "markdown",
   "metadata": {},
   "source": [
    "### Creating bar charts"
   ]
  },
  {
   "cell_type": "code",
   "execution_count": 13,
   "metadata": {},
   "outputs": [
    {
     "name": "stdout",
     "output_type": "stream",
     "text": [
      "[Bar({\n",
      "    'x': [1, 2, 3, 4, 5, 6, 7, 8, 9, 10], 'y': [1, 2, 3, 4, 0.5, 4, 3, 2, 1]\n",
      "})]\n"
     ]
    }
   ],
   "source": [
    "data = [go.Bar(x=[1,2,3,4,5,6,7,8,9,10],y=[1,2,3,4,0.5,4,3,2,1])]\n",
    "print( data)"
   ]
  },
  {
   "cell_type": "code",
   "execution_count": 14,
   "metadata": {},
   "outputs": [
    {
     "data": {
      "text/html": [
       "<iframe id=\"igraph\" scrolling=\"no\" style=\"border:none;\" seamless=\"seamless\" src=\"https://plot.ly/~Gurubux/18.embed\" height=\"525px\" width=\"100%\"></iframe>"
      ],
      "text/plain": [
       "<plotly.tools.PlotlyDisplay object>"
      ]
     },
     "execution_count": 14,
     "metadata": {},
     "output_type": "execute_result"
    }
   ],
   "source": [
    "layout = dict(title='Simple Bar Chart',\n",
    "             xaxis = dict(title='x-axis'),\n",
    "             yaxis = dict(title='y-axis'))\n",
    "py.iplot(data, filename='basic-bar-chart', layout=layout)"
   ]
  },
  {
   "cell_type": "code",
   "execution_count": 15,
   "metadata": {},
   "outputs": [
    {
     "name": "stdout",
     "output_type": "stream",
     "text": [
      "{'color': ['rgba(169,169,169,1)', 'rgba(255,160,122,1)', 'rgba(176,224,230,1)', 'rgba(255,228,196,1)', 'rgba(189,183,107,1)', 'rgba(188,143,143,1)', 'rgba(221,160,221,1)']}\n"
     ]
    }
   ],
   "source": [
    "color_theme = dict(color=['rgba(169,169,169,1)', 'rgba(255,160,122,1)','rgba(176,224,230,1)', 'rgba(255,228,196,1)',\n",
    "                          'rgba(189,183,107,1)', 'rgba(188,143,143,1)','rgba(221,160,221,1)'])\n",
    "print( color_theme)"
   ]
  },
  {
   "cell_type": "code",
   "execution_count": 16,
   "metadata": {},
   "outputs": [
    {
     "data": {
      "text/html": [
       "<iframe id=\"igraph\" scrolling=\"no\" style=\"border:none;\" seamless=\"seamless\" src=\"https://plot.ly/~Gurubux/20.embed\" height=\"525px\" width=\"100%\"></iframe>"
      ],
      "text/plain": [
       "<plotly.tools.PlotlyDisplay object>"
      ]
     },
     "execution_count": 16,
     "metadata": {},
     "output_type": "execute_result"
    }
   ],
   "source": [
    "trace0 = go.Bar(x=[1,2,3,4,5,6,7], y=[1,2,3,4,0.5,3,1], marker=color_theme)\n",
    "data = [trace0]\n",
    "layout = go.Layout(title='Custom Colors')\n",
    "fig = go.Figure(data=data, layout=layout)\n",
    "\n",
    "py.iplot(fig, filename='color-bar-chart')"
   ]
  },
  {
   "cell_type": "markdown",
   "metadata": {},
   "source": [
    "### Creating pie charts"
   ]
  },
  {
   "cell_type": "code",
   "execution_count": 17,
   "metadata": {},
   "outputs": [
    {
     "data": {
      "text/html": [
       "<iframe id=\"igraph\" scrolling=\"no\" style=\"border:none;\" seamless=\"seamless\" src=\"https://plot.ly/~Gurubux/22.embed\" height=\"525px\" width=\"100%\"></iframe>"
      ],
      "text/plain": [
       "<plotly.tools.PlotlyDisplay object>"
      ]
     },
     "execution_count": 17,
     "metadata": {},
     "output_type": "execute_result"
    }
   ],
   "source": [
    "fig = {'data':[{'labels': ['bicycle', 'motorbike','car','van', 'stroller'],\n",
    "                 'values': [1, 2, 3, 4, 0.5],'type': 'pie'}],\n",
    "       'layout': {'title': 'Simple Pie Chart'}}\n",
    "py.iplot(fig)\n",
    "              "
   ]
  },
  {
   "cell_type": "code",
   "execution_count": null,
   "metadata": {},
   "outputs": [],
   "source": []
  }
 ],
 "metadata": {
  "anaconda-cloud": {},
  "kernelspec": {
   "display_name": "Python 3",
   "language": "python",
   "name": "python3"
  },
  "language_info": {
   "codemirror_mode": {
    "name": "ipython",
    "version": 3
   },
   "file_extension": ".py",
   "mimetype": "text/x-python",
   "name": "python",
   "nbconvert_exporter": "python",
   "pygments_lexer": "ipython3",
   "version": "3.7.0"
  }
 },
 "nbformat": 4,
 "nbformat_minor": 1
}
