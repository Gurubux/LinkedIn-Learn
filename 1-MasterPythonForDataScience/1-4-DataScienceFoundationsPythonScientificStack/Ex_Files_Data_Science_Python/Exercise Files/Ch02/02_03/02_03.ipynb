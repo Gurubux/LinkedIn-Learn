{
 "cells": [
  {
   "cell_type": "markdown",
   "metadata": {},
   "source": [
    "# Learning Jupyter Notebook"
   ]
  },
  {
   "cell_type": "code",
   "execution_count": 1,
   "metadata": {
    "collapsed": false
   },
   "outputs": [
    {
     "data": {
      "text/plain": [
       "42"
      ]
     },
     "execution_count": 1,
     "metadata": {},
     "output_type": "execute_result"
    }
   ],
   "source": [
    "40 + 2"
   ]
  },
  {
   "cell_type": "code",
   "execution_count": 2,
   "metadata": {
    "collapsed": true
   },
   "outputs": [],
   "source": [
    "import numpy as np"
   ]
  },
  {
   "cell_type": "code",
   "execution_count": 3,
   "metadata": {
    "collapsed": false
   },
   "outputs": [
    {
     "data": {
      "text/plain": [
       "0.89399666360055785"
      ]
     },
     "execution_count": 3,
     "metadata": {},
     "output_type": "execute_result"
    }
   ],
   "source": [
    "np.sin(90)"
   ]
  },
  {
   "cell_type": "code",
   "execution_count": 4,
   "metadata": {
    "collapsed": true
   },
   "outputs": [],
   "source": [
    "np.sin?"
   ]
  },
  {
   "cell_type": "code",
   "execution_count": 5,
   "metadata": {
    "collapsed": true
   },
   "outputs": [],
   "source": [
    "np.any??"
   ]
  },
  {
   "cell_type": "code",
   "execution_count": 6,
   "metadata": {
    "collapsed": false
   },
   "outputs": [
    {
     "data": {
      "text/plain": [
       "'/Users/mikitebeka'"
      ]
     },
     "execution_count": 6,
     "metadata": {},
     "output_type": "execute_result"
    }
   ],
   "source": [
    "%pwd"
   ]
  },
  {
   "cell_type": "code",
   "execution_count": 7,
   "metadata": {
    "collapsed": false
   },
   "outputs": [
    {
     "name": "stdout",
     "output_type": "stream",
     "text": [
      "-0.958924274663\n",
      "-0.958924274663\n",
      "-0.958924274663\n",
      "-0.958924274663\n",
      "-0.958924274663\n",
      "CPU times: user 694 µs, sys: 854 µs, total: 1.55 ms\n",
      "Wall time: 937 µs\n"
     ]
    }
   ],
   "source": [
    "%%time\n",
    "for i in range(5):\n",
    "    print(np.sin(5))"
   ]
  },
  {
   "cell_type": "code",
   "execution_count": 8,
   "metadata": {
    "collapsed": true
   },
   "outputs": [],
   "source": [
    "%magic"
   ]
  },
  {
   "cell_type": "code",
   "execution_count": 9,
   "metadata": {
    "collapsed": false
   },
   "outputs": [
    {
     "name": "stdout",
     "output_type": "stream",
     "text": [
      "\u001b[34mBluetooth\u001b[m\u001b[m                 \u001b[34mcom.apple.clouddocs.asl\u001b[m\u001b[m   system.log.0.gz\r\n",
      "CDIS.custom               \u001b[34mcom.apple.revisiond\u001b[m\u001b[m       system.log.1.gz\r\n",
      "\u001b[34mDiagnosticMessages\u001b[m\u001b[m        \u001b[34mcom.apple.xpc.launchd\u001b[m\u001b[m     system.log.2.gz\r\n",
      "accountpolicy.log         commerce.log              system.log.3.gz\r\n",
      "accountpolicy.log.0.gz    \u001b[34mcups\u001b[m\u001b[m                      system.log.4.gz\r\n",
      "accountpolicy.log.1.gz    daily.out                 system.log.5.gz\r\n",
      "accountpolicy.log.2.gz    displaypolicyd.log        system.log.6.gz\r\n",
      "accountpolicy.log.3.gz    displaypolicyd.stdout.log system.log.7.gz\r\n",
      "accountpolicy.log.4.gz    \u001b[34memond\u001b[m\u001b[m                     \u001b[34mtimezone\u001b[m\u001b[m\r\n",
      "accountpolicy.log.5.gz    \u001b[34mfax\u001b[m\u001b[m                       \u001b[34muucp\u001b[m\u001b[m\r\n",
      "accountpolicy.log.6.gz    fsck_hfs.log              weekly.out\r\n",
      "accountpolicy.log.7.gz    install.log               wifi.log\r\n",
      "\u001b[34mapache2\u001b[m\u001b[m                   \u001b[31mjamf.log\u001b[m\u001b[m                  wifi.log.0.bz2\r\n",
      "\u001b[34masl\u001b[m\u001b[m                       \u001b[34mmodule\u001b[m\u001b[m                    wifi.log.1.bz2\r\n",
      "authd.log                 monthly.out               wifi.log.10.bz2\r\n",
      "authd.log.0.gz            opendirectoryd.log        wifi.log.2.bz2\r\n",
      "authd.log.1.gz            opendirectoryd.log.0      wifi.log.3.bz2\r\n",
      "authd.log.2.gz            opendirectoryd.log.1      wifi.log.4.bz2\r\n",
      "authd.log.3.gz            opendirectoryd.log.2      wifi.log.5.bz2\r\n",
      "authd.log.4.gz            \u001b[34mpowermanagement\u001b[m\u001b[m           wifi.log.6.bz2\r\n",
      "authd.log.5.gz            \u001b[34mppp\u001b[m\u001b[m                       wifi.log.7.bz2\r\n",
      "authd.log.6.gz            \u001b[34msa\u001b[m\u001b[m                        wifi.log.8.bz2\r\n",
      "authd.log.7.gz            secinitd.log.0.gz         wifi.log.9.bz2\r\n",
      "booth_enroll.log          snmpd.log\r\n",
      "booth_post.log            system.log\r\n"
     ]
    }
   ],
   "source": [
    "!ls /var/log"
   ]
  },
  {
   "cell_type": "code",
   "execution_count": 10,
   "metadata": {
    "collapsed": false
   },
   "outputs": [
    {
     "name": "stdout",
     "output_type": "stream",
     "text": [
      "\u001b[34mBluetooth\u001b[m\u001b[m                 \u001b[34mcom.apple.clouddocs.asl\u001b[m\u001b[m   system.log.0.gz\r\n",
      "CDIS.custom               \u001b[34mcom.apple.revisiond\u001b[m\u001b[m       system.log.1.gz\r\n",
      "\u001b[34mDiagnosticMessages\u001b[m\u001b[m        \u001b[34mcom.apple.xpc.launchd\u001b[m\u001b[m     system.log.2.gz\r\n",
      "accountpolicy.log         commerce.log              system.log.3.gz\r\n",
      "accountpolicy.log.0.gz    \u001b[34mcups\u001b[m\u001b[m                      system.log.4.gz\r\n",
      "accountpolicy.log.1.gz    daily.out                 system.log.5.gz\r\n",
      "accountpolicy.log.2.gz    displaypolicyd.log        system.log.6.gz\r\n",
      "accountpolicy.log.3.gz    displaypolicyd.stdout.log system.log.7.gz\r\n",
      "accountpolicy.log.4.gz    \u001b[34memond\u001b[m\u001b[m                     \u001b[34mtimezone\u001b[m\u001b[m\r\n",
      "accountpolicy.log.5.gz    \u001b[34mfax\u001b[m\u001b[m                       \u001b[34muucp\u001b[m\u001b[m\r\n",
      "accountpolicy.log.6.gz    fsck_hfs.log              weekly.out\r\n",
      "accountpolicy.log.7.gz    install.log               wifi.log\r\n",
      "\u001b[34mapache2\u001b[m\u001b[m                   \u001b[31mjamf.log\u001b[m\u001b[m                  wifi.log.0.bz2\r\n",
      "\u001b[34masl\u001b[m\u001b[m                       \u001b[34mmodule\u001b[m\u001b[m                    wifi.log.1.bz2\r\n",
      "authd.log                 monthly.out               wifi.log.10.bz2\r\n",
      "authd.log.0.gz            opendirectoryd.log        wifi.log.2.bz2\r\n",
      "authd.log.1.gz            opendirectoryd.log.0      wifi.log.3.bz2\r\n",
      "authd.log.2.gz            opendirectoryd.log.1      wifi.log.4.bz2\r\n",
      "authd.log.3.gz            opendirectoryd.log.2      wifi.log.5.bz2\r\n",
      "authd.log.4.gz            \u001b[34mpowermanagement\u001b[m\u001b[m           wifi.log.6.bz2\r\n",
      "authd.log.5.gz            \u001b[34mppp\u001b[m\u001b[m                       wifi.log.7.bz2\r\n",
      "authd.log.6.gz            \u001b[34msa\u001b[m\u001b[m                        wifi.log.8.bz2\r\n",
      "authd.log.7.gz            secinitd.log.0.gz         wifi.log.9.bz2\r\n",
      "booth_enroll.log          snmpd.log\r\n",
      "booth_post.log            system.log\r\n"
     ]
    }
   ],
   "source": [
    "dir_name = '/var/log'\n",
    "!ls $dir_name"
   ]
  },
  {
   "cell_type": "code",
   "execution_count": 11,
   "metadata": {
    "collapsed": false
   },
   "outputs": [
    {
     "name": "stdout",
     "output_type": "stream",
     "text": [
      "We have 73 files at /var/log\n"
     ]
    }
   ],
   "source": [
    "files = !ls /var/log\n",
    "print('We have {} files at {}'.format(len(files), dir_name))"
   ]
  },
  {
   "cell_type": "code",
   "execution_count": null,
   "metadata": {
    "collapsed": true
   },
   "outputs": [],
   "source": []
  }
 ],
 "metadata": {
  "kernelspec": {
   "display_name": "Python 3",
   "language": "python",
   "name": "python3"
  },
  "language_info": {
   "codemirror_mode": {
    "name": "ipython",
    "version": 3
   },
   "file_extension": ".py",
   "mimetype": "text/x-python",
   "name": "python",
   "nbconvert_exporter": "python",
   "pygments_lexer": "ipython3",
   "version": "3.6.0"
  }
 },
 "nbformat": 4,
 "nbformat_minor": 2
}
