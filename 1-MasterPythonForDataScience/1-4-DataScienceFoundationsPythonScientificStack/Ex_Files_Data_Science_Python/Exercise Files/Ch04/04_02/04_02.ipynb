{
 "cells": [
  {
   "cell_type": "code",
   "execution_count": 1,
   "metadata": {
    "collapsed": true,
    "deletable": true,
    "editable": true
   },
   "outputs": [],
   "source": [
    "from os import path\n",
    "fname = path.expanduser('~/Desktop/Exercise Files/Ch04/04_02/track.csv')"
   ]
  },
  {
   "cell_type": "code",
   "execution_count": 2,
   "metadata": {
    "collapsed": false,
    "deletable": true,
    "editable": true
   },
   "outputs": [
    {
     "name": "stdout",
     "output_type": "stream",
     "text": [
      "c:\\path\to\n",
      "owhere.csv\n"
     ]
    }
   ],
   "source": [
    "print('c:\\path\\to\\nowhere.csv')"
   ]
  },
  {
   "cell_type": "code",
   "execution_count": 3,
   "metadata": {
    "collapsed": false,
    "deletable": true,
    "editable": true
   },
   "outputs": [
    {
     "name": "stdout",
     "output_type": "stream",
     "text": [
      "c:\\path\\to\\nowhere.csv\n"
     ]
    }
   ],
   "source": [
    "print(r'c:\\path\\to\\nowhere.csv')"
   ]
  },
  {
   "cell_type": "code",
   "execution_count": 4,
   "metadata": {
    "collapsed": false,
    "deletable": true,
    "editable": true
   },
   "outputs": [
    {
     "name": "stdout",
     "output_type": "stream",
     "text": [
      "-rw-r--r--@ 1 mikitebeka  staff    43K Apr  4 13:11 /Users/mikitebeka/Desktop/Exercise Files/Ch04/04_02/track.csv\r\n"
     ]
    }
   ],
   "source": [
    "!ls -lh \"$fname\""
   ]
  },
  {
   "cell_type": "code",
   "execution_count": 5,
   "metadata": {
    "collapsed": false,
    "deletable": true,
    "editable": true
   },
   "outputs": [
    {
     "data": {
      "text/plain": [
       "43844"
      ]
     },
     "execution_count": 5,
     "metadata": {},
     "output_type": "execute_result"
    }
   ],
   "source": [
    "path.getsize(fname)"
   ]
  },
  {
   "cell_type": "code",
   "execution_count": 6,
   "metadata": {
    "collapsed": false,
    "deletable": true,
    "editable": true
   },
   "outputs": [
    {
     "data": {
      "text/plain": [
       "42.81640625"
      ]
     },
     "execution_count": 6,
     "metadata": {},
     "output_type": "execute_result"
    }
   ],
   "source": [
    "path.getsize(fname) / (1<<10)"
   ]
  },
  {
   "cell_type": "code",
   "execution_count": 7,
   "metadata": {
    "collapsed": false,
    "deletable": true,
    "editable": true
   },
   "outputs": [
    {
     "name": "stdout",
     "output_type": "stream",
     "text": [
      "time,lat,lng,height\r\n",
      "2015-08-20 03:48:07.235,35.015021,32.519585,136.1999969482422\r\n",
      "2015-08-20 03:48:24.734,35.014954,32.519606,126.5999984741211\r\n",
      "2015-08-20 03:48:25.660,35.014871,32.519612,123.0\r\n",
      "2015-08-20 03:48:26.819,35.014824,32.519654,120.5\r\n",
      "2015-08-20 03:48:27.828,35.014776,32.519689,118.9000015258789\r\n",
      "2015-08-20 03:48:29.720,35.014704,32.519691,119.9000015258789\r\n",
      "2015-08-20 03:48:30.669,35.014657,32.519734,120.9000015258789\r\n",
      "2015-08-20 03:48:33.793,35.014563,32.519719,121.69999694824219\r\n",
      "2015-08-20 03:48:34.869,35.014549,32.519694,121.19999694824219\r\n"
     ]
    }
   ],
   "source": [
    "!head \"$fname\""
   ]
  },
  {
   "cell_type": "code",
   "execution_count": 8,
   "metadata": {
    "collapsed": false,
    "deletable": true,
    "editable": true
   },
   "outputs": [
    {
     "name": "stdout",
     "output_type": "stream",
     "text": [
      "time,lat,lng,height\n",
      "2015-08-20 03:48:07.235,35.015021,32.519585,136.1999969482422\n",
      "2015-08-20 03:48:24.734,35.014954,32.519606,126.5999984741211\n",
      "2015-08-20 03:48:25.660,35.014871,32.519612,123.0\n",
      "2015-08-20 03:48:26.819,35.014824,32.519654,120.5\n",
      "2015-08-20 03:48:27.828,35.014776,32.519689,118.9000015258789\n",
      "2015-08-20 03:48:29.720,35.014704,32.519691,119.9000015258789\n",
      "2015-08-20 03:48:30.669,35.014657,32.519734,120.9000015258789\n",
      "2015-08-20 03:48:33.793,35.014563,32.519719,121.69999694824219\n",
      "2015-08-20 03:48:34.869,35.014549,32.519694,121.19999694824219\n",
      "2015-08-20 03:48:37.708,35.014515,32.519625,121.69999694824219\n"
     ]
    }
   ],
   "source": [
    "with open(fname) as fp:\n",
    "    for lnum, line in enumerate(fp):\n",
    "        if lnum > 10:\n",
    "            break\n",
    "        print(line[:-1])"
   ]
  },
  {
   "cell_type": "code",
   "execution_count": 9,
   "metadata": {
    "collapsed": false,
    "deletable": true,
    "editable": true
   },
   "outputs": [
    {
     "name": "stdout",
     "output_type": "stream",
     "text": [
      "     741 /Users/mikitebeka/Desktop/Exercise Files/Ch04/04_02/track.csv\r\n"
     ]
    }
   ],
   "source": [
    "!wc -l \"$fname\""
   ]
  },
  {
   "cell_type": "code",
   "execution_count": 10,
   "metadata": {
    "collapsed": false,
    "deletable": true,
    "editable": true
   },
   "outputs": [
    {
     "name": "stdout",
     "output_type": "stream",
     "text": [
      "741\n"
     ]
    }
   ],
   "source": [
    "with open(fname) as fp:\n",
    "    print(sum(1 for line in fp))"
   ]
  },
  {
   "cell_type": "code",
   "execution_count": 11,
   "metadata": {
    "collapsed": true,
    "deletable": true,
    "editable": true
   },
   "outputs": [],
   "source": [
    "import pandas as pd"
   ]
  },
  {
   "cell_type": "code",
   "execution_count": 12,
   "metadata": {
    "collapsed": true,
    "deletable": true,
    "editable": true
   },
   "outputs": [],
   "source": [
    "df = pd.read_csv(fname)"
   ]
  },
  {
   "cell_type": "code",
   "execution_count": 13,
   "metadata": {
    "collapsed": false,
    "deletable": true,
    "editable": true
   },
   "outputs": [
    {
     "data": {
      "text/plain": [
       "740"
      ]
     },
     "execution_count": 13,
     "metadata": {},
     "output_type": "execute_result"
    }
   ],
   "source": [
    "len(df)"
   ]
  },
  {
   "cell_type": "code",
   "execution_count": 14,
   "metadata": {
    "collapsed": false,
    "deletable": true,
    "editable": true
   },
   "outputs": [
    {
     "data": {
      "text/plain": [
       "Index(['time', 'lat', 'lng', 'height'], dtype='object')"
      ]
     },
     "execution_count": 14,
     "metadata": {},
     "output_type": "execute_result"
    }
   ],
   "source": [
    "df.columns"
   ]
  },
  {
   "cell_type": "code",
   "execution_count": 15,
   "metadata": {
    "collapsed": false,
    "deletable": true,
    "editable": true
   },
   "outputs": [
    {
     "name": "stdout",
     "output_type": "stream",
     "text": [
      "<class 'pandas.core.frame.DataFrame'>\n",
      "RangeIndex: 740 entries, 0 to 739\n",
      "Data columns (total 4 columns):\n",
      "time      740 non-null object\n",
      "lat       740 non-null float64\n",
      "lng       740 non-null float64\n",
      "height    740 non-null float64\n",
      "dtypes: float64(3), object(1)\n",
      "memory usage: 23.2+ KB\n"
     ]
    }
   ],
   "source": [
    "df.info()"
   ]
  },
  {
   "cell_type": "code",
   "execution_count": null,
   "metadata": {
    "collapsed": true
   },
   "outputs": [],
   "source": []
  }
 ],
 "metadata": {
  "kernelspec": {
   "display_name": "Python 3",
   "language": "python",
   "name": "python3"
  },
  "language_info": {
   "codemirror_mode": {
    "name": "ipython",
    "version": 3
   },
   "file_extension": ".py",
   "mimetype": "text/x-python",
   "name": "python",
   "nbconvert_exporter": "python",
   "pygments_lexer": "ipython3",
   "version": "3.6.0"
  }
 },
 "nbformat": 4,
 "nbformat_minor": 2
}
