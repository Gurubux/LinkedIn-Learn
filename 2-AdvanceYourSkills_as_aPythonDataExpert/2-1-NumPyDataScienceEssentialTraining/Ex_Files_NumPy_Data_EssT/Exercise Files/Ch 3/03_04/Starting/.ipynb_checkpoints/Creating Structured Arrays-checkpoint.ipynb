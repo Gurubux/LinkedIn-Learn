{
 "cells": [
  {
   "cell_type": "markdown",
   "metadata": {},
   "source": [
    "<h1>Creating Structured Arrays</h1>"
   ]
  },
  {
   "cell_type": "code",
   "execution_count": 5,
   "metadata": {
    "collapsed": true
   },
   "outputs": [],
   "source": [
    "import numpy as np"
   ]
  },
  {
   "cell_type": "code",
   "execution_count": 6,
   "metadata": {
    "collapsed": false
   },
   "outputs": [
    {
     "data": {
      "text/plain": [
       "[('name', 'S6'), ('height', 'f8'), ('weight', 'f8'), ('age', 'i8')]"
      ]
     },
     "execution_count": 6,
     "metadata": {},
     "output_type": "execute_result"
    }
   ],
   "source": [
    "person_data_def = [('name','S6'),('height','f8'),('weight','f8'), ('age', 'i8')]\n",
    "person_data_def"
   ]
  },
  {
   "cell_type": "code",
   "execution_count": 9,
   "metadata": {
    "collapsed": false
   },
   "outputs": [
    {
     "data": {
      "text/plain": [
       "array([(b'', 0.0, 0.0, 0), (b'', 0.0, 0.0, 0), (b'', 0.0, 0.0, 0),\n",
       "       (b'', 0.0, 0.0, 0)], \n",
       "      dtype=[('name', 'S6'), ('height', '<f8'), ('weight', '<f8'), ('age', '<i8')])"
      ]
     },
     "execution_count": 9,
     "metadata": {},
     "output_type": "execute_result"
    }
   ],
   "source": [
    "people_array = np.zeros((4,), dtype=person_data_def)\n",
    "people_array"
   ]
  },
  {
   "cell_type": "code",
   "execution_count": 17,
   "metadata": {
    "collapsed": false
   },
   "outputs": [
    {
     "data": {
      "text/plain": [
       "array([(b'Alpha', 65.0, 112.0, 23), (b'', 0.0, 0.0, 0), (b'', 0.0, 0.0, 0),\n",
       "       (b'Delta', 73.0, 205.0, 34)], \n",
       "      dtype=[('name', 'S6'), ('height', '<f8'), ('weight', '<f8'), ('age', '<i8')])"
      ]
     },
     "execution_count": 17,
     "metadata": {},
     "output_type": "execute_result"
    }
   ],
   "source": [
    "people_array[3] = ('Delta', 73, 205, 34)\n",
    "people_array[0] = ('Alpha', 65, 112, 23)\n",
    "people_array"
   ]
  },
  {
   "cell_type": "code",
   "execution_count": 18,
   "metadata": {
    "collapsed": false
   },
   "outputs": [
    {
     "data": {
      "text/plain": [
       "array([(b'Alpha', 65.0, 112.0, 23), (b'', 0.0, 0.0, 0), (b'', 0.0, 0.0, 0),\n",
       "       (b'Delta', 73.0, 205.0, 34)], \n",
       "      dtype=[('name', 'S6'), ('height', '<f8'), ('weight', '<f8'), ('age', '<i8')])"
      ]
     },
     "execution_count": 18,
     "metadata": {},
     "output_type": "execute_result"
    }
   ],
   "source": [
    "people_array[0:]"
   ]
  },
  {
   "cell_type": "code",
   "execution_count": 21,
   "metadata": {
    "collapsed": false
   },
   "outputs": [
    {
     "data": {
      "text/plain": [
       "array([23,  0,  0, 34], dtype=int64)"
      ]
     },
     "execution_count": 21,
     "metadata": {},
     "output_type": "execute_result"
    }
   ],
   "source": [
    "ages = people_array['age']\n",
    "ages"
   ]
  },
  {
   "cell_type": "code",
   "execution_count": 23,
   "metadata": {
    "collapsed": false
   },
   "outputs": [
    {
     "data": {
      "text/plain": [
       "array([ 11.5,   0. ,   0. ,  17. ])"
      ]
     },
     "execution_count": 23,
     "metadata": {},
     "output_type": "execute_result"
    }
   ],
   "source": [
    "make_youthful = ages / 2\n",
    "make_youthful"
   ]
  },
  {
   "cell_type": "code",
   "execution_count": 25,
   "metadata": {
    "collapsed": false
   },
   "outputs": [
    {
     "data": {
      "text/plain": [
       "array([(b'Alpha', 65.0, 112.0, 23), (b'', 0.0, 0.0, 0), (b'', 0.0, 0.0, 0),\n",
       "       (b'Delta', 73.0, 205.0, 34)], \n",
       "      dtype=[('name', 'S6'), ('height', '<f8'), ('weight', '<f8'), ('age', '<i8')])"
      ]
     },
     "execution_count": 25,
     "metadata": {},
     "output_type": "execute_result"
    }
   ],
   "source": [
    "people_array"
   ]
  },
  {
   "cell_type": "code",
   "execution_count": 26,
   "metadata": {
    "collapsed": false
   },
   "outputs": [
    {
     "data": {
      "text/plain": [
       "array([23,  0,  0, 34], dtype=int64)"
      ]
     },
     "execution_count": 26,
     "metadata": {},
     "output_type": "execute_result"
    }
   ],
   "source": [
    "ages"
   ]
  },
  {
   "cell_type": "markdown",
   "metadata": {},
   "source": [
    "<h2>Multi-dimensional Structured Arrays</h2>"
   ]
  },
  {
   "cell_type": "code",
   "execution_count": 28,
   "metadata": {
    "collapsed": false
   },
   "outputs": [
    {
     "data": {
      "text/plain": [
       "array([[[(b'', 0.0, 0.0, 0), (b'', 0.0, 0.0, 0)],\n",
       "        [(b'', 0.0, 0.0, 0), (b'', 0.0, 0.0, 0)],\n",
       "        [(b'', 0.0, 0.0, 0), (b'', 0.0, 0.0, 0)]],\n",
       "\n",
       "       [[(b'', 0.0, 0.0, 0), (b'', 0.0, 0.0, 0)],\n",
       "        [(b'', 0.0, 0.0, 0), (b'', 0.0, 0.0, 0)],\n",
       "        [(b'', 0.0, 0.0, 0), (b'', 0.0, 0.0, 0)]],\n",
       "\n",
       "       [[(b'', 0.0, 0.0, 0), (b'', 0.0, 0.0, 0)],\n",
       "        [(b'', 0.0, 0.0, 0), (b'', 0.0, 0.0, 0)],\n",
       "        [(b'', 0.0, 0.0, 0), (b'', 0.0, 0.0, 0)]],\n",
       "\n",
       "       [[(b'', 0.0, 0.0, 0), (b'', 0.0, 0.0, 0)],\n",
       "        [(b'', 0.0, 0.0, 0), (b'', 0.0, 0.0, 0)],\n",
       "        [(b'', 0.0, 0.0, 0), (b'', 0.0, 0.0, 0)]]], \n",
       "      dtype=[('name', 'S6'), ('height', '<f8'), ('weight', '<f8'), ('age', '<i8')])"
      ]
     },
     "execution_count": 28,
     "metadata": {},
     "output_type": "execute_result"
    }
   ],
   "source": [
    "people_big_array = np.zeros((4,3,2), dtype=person_data_def)\n",
    "people_big_array"
   ]
  },
  {
   "cell_type": "code",
   "execution_count": 31,
   "metadata": {
    "collapsed": false
   },
   "outputs": [
    {
     "data": {
      "text/plain": [
       "array([[[(b'', 0.0, 0.0, 0), (b'', 0.0, 0.0, 0)],\n",
       "        [(b'', 0.0, 0.0, 0), (b'', 0.0, 0.0, 0)],\n",
       "        [(b'', 0.0, 0.0, 0), (b'', 0.0, 0.0, 0)]],\n",
       "\n",
       "       [[(b'', 0.0, 0.0, 0), (b'', 0.0, 0.0, 0)],\n",
       "        [(b'', 0.0, 0.0, 0), (b'', 0.0, 0.0, 0)],\n",
       "        [(b'', 0.0, 0.0, 0), (b'', 0.0, 0.0, 0)]],\n",
       "\n",
       "       [[(b'', 0.0, 0.0, 0), (b'', 0.0, 0.0, 0)],\n",
       "        [(b'', 0.0, 0.0, 0), (b'', 0.0, 0.0, 0)],\n",
       "        [(b'', 0.0, 0.0, 0), (b'', 0.0, 0.0, 0)]],\n",
       "\n",
       "       [[(b'', 0.0, 0.0, 0), (b'', 0.0, 0.0, 0)],\n",
       "        [(b'', 0.0, 0.0, 0), (b'', 0.0, 0.0, 0)],\n",
       "        [(b'', 0.0, 0.0, 0), (b'Echo', 68.0, 155.0, 46)]]], \n",
       "      dtype=[('name', 'S6'), ('height', '<f8'), ('weight', '<f8'), ('age', '<i8')])"
      ]
     },
     "execution_count": 31,
     "metadata": {},
     "output_type": "execute_result"
    }
   ],
   "source": [
    "people_big_array[3,2,1] = ('Echo', 68, 155, 46)\n",
    "people_big_array"
   ]
  },
  {
   "cell_type": "code",
   "execution_count": 35,
   "metadata": {
    "collapsed": false
   },
   "outputs": [
    {
     "data": {
      "text/plain": [
       "array([[[  0.,   0.],\n",
       "        [  0.,   0.],\n",
       "        [  0.,   0.]],\n",
       "\n",
       "       [[  0.,   0.],\n",
       "        [  0.,   0.],\n",
       "        [  0.,   0.]],\n",
       "\n",
       "       [[  0.,   0.],\n",
       "        [  0.,   0.],\n",
       "        [  0.,   0.]],\n",
       "\n",
       "       [[  0.,   0.],\n",
       "        [  0.,   0.],\n",
       "        [  0.,  68.]]])"
      ]
     },
     "execution_count": 35,
     "metadata": {},
     "output_type": "execute_result"
    }
   ],
   "source": [
    "people_big_array['height']"
   ]
  },
  {
   "cell_type": "code",
   "execution_count": 37,
   "metadata": {
    "collapsed": false
   },
   "outputs": [
    {
     "data": {
      "text/plain": [
       "array([[[(0.0, 0), (0.0, 0)],\n",
       "        [(0.0, 0), (0.0, 0)],\n",
       "        [(0.0, 0), (0.0, 0)]],\n",
       "\n",
       "       [[(0.0, 0), (0.0, 0)],\n",
       "        [(0.0, 0), (0.0, 0)],\n",
       "        [(0.0, 0), (0.0, 0)]],\n",
       "\n",
       "       [[(0.0, 0), (0.0, 0)],\n",
       "        [(0.0, 0), (0.0, 0)],\n",
       "        [(0.0, 0), (0.0, 0)]],\n",
       "\n",
       "       [[(0.0, 0), (0.0, 0)],\n",
       "        [(0.0, 0), (0.0, 0)],\n",
       "        [(0.0, 0), (68.0, 46)]]], \n",
       "      dtype=[('height', '<f8'), ('age', '<i8')])"
      ]
     },
     "execution_count": 37,
     "metadata": {},
     "output_type": "execute_result"
    }
   ],
   "source": [
    "people_big_array[['height', 'age']]"
   ]
  },
  {
   "cell_type": "markdown",
   "metadata": {},
   "source": [
    "<h1>Creating Record Arrays</h1>"
   ]
  },
  {
   "cell_type": "code",
   "execution_count": 43,
   "metadata": {
    "collapsed": false
   },
   "outputs": [
    {
     "data": {
      "text/plain": [
       "rec.array([(b'Delta', 73.0, 205.0, 34), (b'Alpha', 65.0, 112.0, 23)], \n",
       "          dtype=[('name', 'S6'), ('height', '<f8'), ('weight', '<f8'), ('age', '<i8')])"
      ]
     },
     "execution_count": 43,
     "metadata": {},
     "output_type": "execute_result"
    }
   ],
   "source": [
    "person_record_array = np.rec.array([('Delta', 73, 205, 34),('Alpha', 65, 112, 23)],dtype=person_data_def)\n",
    "person_record_array"
   ]
  },
  {
   "cell_type": "code",
   "execution_count": 44,
   "metadata": {
    "collapsed": false
   },
   "outputs": [
    {
     "data": {
      "text/plain": [
       "34"
      ]
     },
     "execution_count": 44,
     "metadata": {},
     "output_type": "execute_result"
    }
   ],
   "source": [
    "person_record_array[0].age"
   ]
  },
  {
   "cell_type": "code",
   "execution_count": null,
   "metadata": {
    "collapsed": true
   },
   "outputs": [],
   "source": []
  }
 ],
 "metadata": {
  "kernelspec": {
   "display_name": "Python 3",
   "language": "python",
   "name": "python3"
  },
  "language_info": {
   "codemirror_mode": {
    "name": "ipython",
    "version": 3
   },
   "file_extension": ".py",
   "mimetype": "text/x-python",
   "name": "python",
   "nbconvert_exporter": "python",
   "pygments_lexer": "ipython3",
   "version": "3.5.1"
  }
 },
 "nbformat": 4,
 "nbformat_minor": 0
}
