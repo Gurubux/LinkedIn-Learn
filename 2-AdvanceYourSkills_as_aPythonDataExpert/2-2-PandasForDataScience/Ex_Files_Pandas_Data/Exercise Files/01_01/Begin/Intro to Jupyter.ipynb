{
 "cells": [
  {
   "cell_type": "markdown",
   "metadata": {},
   "source": [
    "# What is a Jupyter notebook?\n",
    "\n",
    "#### Application for creating and sharing documents that contain:\n",
    "- live code\n",
    "- equations\n",
    "- visualizations\n",
    "- explanatory text\n",
    "\n",
    "Home page: http://jupyter.org/"
   ]
  },
  {
   "cell_type": "markdown",
   "metadata": {},
   "source": [
    "# Notebook tutorials\n",
    "- [Quick Start Guide](https://jupyter-notebook-beginner-guide.readthedocs.io/en/latest/)\n",
    "- [User Documentation](http://jupyter-notebook.readthedocs.io/en/latest/)\n",
    "- [Examples Documentation](http://jupyter-notebook.readthedocs.io/en/latest/examples/Notebook/examples_index.html)\n",
    "- [Cal Tech](http://bebi103.caltech.edu/2015/tutorials/t0b_intro_to_jupyter_notebooks.html)"
   ]
  },
  {
   "cell_type": "markdown",
   "metadata": {},
   "source": [
    "# Notebook Users\n",
    "- students, readers, viewers, learners\n",
    "    - read a digital book\n",
    "    - interact with a \"live\" book\n",
    "- notebook developers\n",
    "    - create notebooks for students, readers, ..."
   ]
  },
  {
   "cell_type": "markdown",
   "metadata": {},
   "source": [
    "# Notebooks contain cells\n",
    "- Code cells\n",
    "    - execute computer (Python, or many other languages)\n",
    "- Markdown cells\n",
    "    - documentation, \"narrative\" cells\n",
    "        - guide a reader through a notebook"
   ]
  },
  {
   "cell_type": "markdown",
   "metadata": {},
   "source": [
    "# Following cells are \"live\" cells"
   ]
  },
  {
   "cell_type": "code",
   "execution_count": null,
   "metadata": {
    "collapsed": false
   },
   "outputs": [],
   "source": []
  },
  {
   "cell_type": "code",
   "execution_count": null,
   "metadata": {
    "collapsed": false
   },
   "outputs": [],
   "source": []
  },
  {
   "cell_type": "code",
   "execution_count": null,
   "metadata": {
    "collapsed": false
   },
   "outputs": [],
   "source": []
  },
  {
   "cell_type": "code",
   "execution_count": null,
   "metadata": {
    "collapsed": true
   },
   "outputs": [],
   "source": []
  }
 ],
 "metadata": {
  "kernelspec": {
   "display_name": "Python 2",
   "language": "python",
   "name": "python2"
  },
  "language_info": {
   "codemirror_mode": {
    "name": "ipython",
    "version": 2
   },
   "file_extension": ".py",
   "mimetype": "text/x-python",
   "name": "python",
   "nbconvert_exporter": "python",
   "pygments_lexer": "ipython2",
   "version": "2.7.11"
  }
 },
 "nbformat": 4,
 "nbformat_minor": 0
}
