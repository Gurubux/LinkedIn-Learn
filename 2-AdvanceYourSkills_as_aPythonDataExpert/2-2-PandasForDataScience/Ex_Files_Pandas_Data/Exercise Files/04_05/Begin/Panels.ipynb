{
 "cells": [
  {
   "cell_type": "markdown",
   "metadata": {},
   "source": [
    "### Creating Panels\n",
    "A Panel is a three-dimensional analogue of DataFrame.  Each item (the analogue of columns in a DataFrame) in a Panel is a DataFrame.\n",
    "\n",
    "The term panel data is derived\n",
    "from econometrics and is partially responsible for the name pandas: pan(el)-da(ta)-s. The names for the 3 axes within a panel are intended to give some semantic meaning to describing operations involving panel data and, in particular, econometric\n",
    "analysis of panel data. However, for the strict purposes of slicing and dicing a collection of DataFrame objects, you\n",
    "may find the axis names slightly arbitrary:\n",
    "\n",
    "- items: axis 0, each item corresponds to a DataFrame contained inside\n",
    "- major_axis: axis 1, it is the index (rows) of each of the DataFrames\n",
    "- minor_axis: axis 2, it is the columns of each of the DataFrames\n",
    "\n",
    "source: http://pandas.pydata.org/pandas-docs/stable/dsintro.html#panel"
   ]
  },
  {
   "cell_type": "code",
   "execution_count": null,
   "metadata": {
    "collapsed": true
   },
   "outputs": [],
   "source": [
    "import pandas as pd\n",
    "import numpy as np\n",
    "import datetime\n",
    "from pandas_datareader import data, wb\n",
    "\n",
    "pd.set_eng_float_format(accuracy=2, use_eng_prefix=True)"
   ]
  },
  {
   "cell_type": "code",
   "execution_count": null,
   "metadata": {
    "collapsed": false
   },
   "outputs": [],
   "source": [
    "my_first_panel = pd.Panel(np.random.randn(2, 5, 4), \n",
    "                          items=['Item01', 'Item02'],\n",
    "                          major_axis=pd.date_range('9/6/2016', periods=5),\n",
    "                          minor_axis=['A', 'B', 'C', 'D'])\n",
    "my_first_panel"
   ]
  },
  {
   "cell_type": "markdown",
   "metadata": {},
   "source": [
    "### From dict of DataFrame objects\n",
    "Note that the values in the dict need only be convertible to DataFrame."
   ]
  },
  {
   "cell_type": "code",
   "execution_count": null,
   "metadata": {
    "collapsed": false
   },
   "outputs": [],
   "source": [
    "dictionary_of_data_frames = {'Item1' : pd.DataFrame(np.random.randn(4, 3)),\n",
    "                             'Item2' : pd.DataFrame(np.random.randn(4, 2))}\n",
    "my_dictionary_panel = pd.Panel(dictionary_of_data_frames)\n",
    "my_dictionary_panel"
   ]
  },
  {
   "cell_type": "markdown",
   "metadata": {},
   "source": [
    "##### Panel.from_dict()\n",
    "One helpful factory method is Panel.from_dict, which takes a dictionary of DataFrames, and has the following named parameters:\n",
    "\n",
    "| Parameter | Default | Description                                         |\n",
    "|-----------|---------|-----------------------------------------------------|\n",
    "| intersect | False   | drops elements whose indices do not align           |\n",
    "| orient    | items   | use minor to use DataFrames’ columns as panel items |\n",
    "\n",
    "Orient is especially useful for mixed-type DataFrames. If you pass a dict of DataFrame objects with mixed-type columns, all of the data will get upcasted to dtype=object unless you pass orient='minor':"
   ]
  },
  {
   "cell_type": "code",
   "execution_count": null,
   "metadata": {
    "collapsed": false
   },
   "outputs": [],
   "source": [
    "oriented_panel = pd.Panel.from_dict(dictionary_of_data_frames, orient='minor')\n",
    "oriented_panel"
   ]
  },
  {
   "cell_type": "markdown",
   "metadata": {},
   "source": [
    "### Panels using remote stock data\n",
    "source: [Python for Data Analysis by Wes McKinney](http://shop.oreilly.com/product/0636920023784.do) page 152; modified by Charles Kelly to use DataReader"
   ]
  },
  {
   "cell_type": "code",
   "execution_count": null,
   "metadata": {
    "collapsed": false
   },
   "outputs": [],
   "source": [
    "start = datetime.datetime(2010, 1, 1)\n",
    "end = datetime.datetime(2016, 7, 15)\n",
    "pdata = pd.Panel(dict((stk, data.DataReader(\"F\", 'yahoo', start, end))\n",
    "for stk in ['AAPL', 'GOOG', 'MSFT', 'DELL']))\n",
    "\n",
    "pdata"
   ]
  },
  {
   "cell_type": "markdown",
   "metadata": {},
   "source": [
    "##### swap axes: make the stocks the columns\n",
    "documentation: http://pandas.pydata.org/pandas-docs/version/0.18.0/generated/pandas.Panel.swapaxes.html"
   ]
  },
  {
   "cell_type": "code",
   "execution_count": null,
   "metadata": {
    "collapsed": true
   },
   "outputs": [],
   "source": [
    "pdata = pdata.swapaxes('items', 'minor')"
   ]
  },
  {
   "cell_type": "code",
   "execution_count": null,
   "metadata": {
    "collapsed": false
   },
   "outputs": [],
   "source": [
    "pdata['Adj Close'].head()"
   ]
  },
  {
   "cell_type": "markdown",
   "metadata": {},
   "source": [
    "##### NumPy ix generalizes to three dimensions\n",
    "source: http://docs.scipy.org/doc/numpy/reference/generated/numpy.ix_.html"
   ]
  },
  {
   "cell_type": "code",
   "execution_count": null,
   "metadata": {
    "collapsed": false
   },
   "outputs": [],
   "source": [
    "pdata.ix[:, '7/12/2016', :]"
   ]
  },
  {
   "cell_type": "markdown",
   "metadata": {},
   "source": [
    "##### convert Panel to DataFrame with multi-index"
   ]
  },
  {
   "cell_type": "code",
   "execution_count": null,
   "metadata": {
    "collapsed": false
   },
   "outputs": [],
   "source": [
    "stacked = pdata.ix[:, '6/30/2016':, :].to_frame()\n",
    "print(type(stacked))\n",
    "stacked"
   ]
  },
  {
   "cell_type": "markdown",
   "metadata": {},
   "source": [
    "##### convert DataFrame with multi-index to a Panel"
   ]
  },
  {
   "cell_type": "code",
   "execution_count": null,
   "metadata": {
    "collapsed": false
   },
   "outputs": [],
   "source": [
    "stacked.to_panel()"
   ]
  }
 ],
 "metadata": {
  "kernelspec": {
   "display_name": "Python 3",
   "language": "python",
   "name": "python3"
  },
  "language_info": {
   "codemirror_mode": {
    "name": "ipython",
    "version": 3
   },
   "file_extension": ".py",
   "mimetype": "text/x-python",
   "name": "python",
   "nbconvert_exporter": "python",
   "pygments_lexer": "ipython3",
   "version": "3.5.1"
  }
 },
 "nbformat": 4,
 "nbformat_minor": 0
}
